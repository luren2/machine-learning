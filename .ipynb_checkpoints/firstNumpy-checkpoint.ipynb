{
 "cells": [
  {
   "cell_type": "markdown",
   "id": "da512160",
   "metadata": {},
   "source": [
    "## 我的第一个numpy"
   ]
  },
  {
   "cell_type": "code",
   "execution_count": 2,
   "id": "9a5a901c",
   "metadata": {},
   "outputs": [
    {
     "data": {
      "text/plain": [
       "3"
      ]
     },
     "execution_count": 2,
     "metadata": {},
     "output_type": "execute_result"
    }
   ],
   "source": [
    "1+2\n"
   ]
  },
  {
   "cell_type": "code",
   "execution_count": 10,
   "id": "37fac1a2",
   "metadata": {},
   "outputs": [
    {
     "name": "stdout",
     "output_type": "stream",
     "text": [
      "0\n",
      "1\n",
      "2\n",
      "3\n",
      "4\n"
     ]
    }
   ],
   "source": [
    "for i in range(5):\n",
    "    print(i)"
   ]
  },
  {
   "cell_type": "code",
   "execution_count": 41,
   "id": "200ad234",
   "metadata": {},
   "outputs": [
    {
     "data": {
      "text/plain": [
       "(4, 1)"
      ]
     },
     "execution_count": 41,
     "metadata": {},
     "output_type": "execute_result"
    }
   ],
   "source": [
    "def add(x):\n",
    "    a=1\n",
    "    c=1\n",
    "    b=1 \n",
    "    return x+a+b+c,x; #可以有多个返回值\n",
    "add(1)"
   ]
  },
  {
   "cell_type": "code",
   "execution_count": 5,
   "id": "4b76648b",
   "metadata": {},
   "outputs": [],
   "source": [
    "import numpy as np\n",
    "a=np.array([1,2,3,4,])\n",
    "b=np.array([5,6,7,8])"
   ]
  },
  {
   "cell_type": "code",
   "execution_count": 56,
   "id": "873ef091",
   "metadata": {},
   "outputs": [
    {
     "data": {
      "text/plain": [
       "array([ 6,  8, 10, 12])"
      ]
     },
     "execution_count": 56,
     "metadata": {},
     "output_type": "execute_result"
    }
   ],
   "source": [
    "a+b"
   ]
  },
  {
   "cell_type": "code",
   "execution_count": 57,
   "id": "c310c4b7",
   "metadata": {},
   "outputs": [
    {
     "data": {
      "text/plain": [
       "array([ 5, 12, 21, 32])"
      ]
     },
     "execution_count": 57,
     "metadata": {},
     "output_type": "execute_result"
    }
   ],
   "source": [
    "a*b"
   ]
  },
  {
   "cell_type": "code",
   "execution_count": 59,
   "id": "5f0320e0",
   "metadata": {},
   "outputs": [
    {
     "data": {
      "text/plain": [
       "array([0, 1, 2, 3])"
      ]
     },
     "execution_count": 59,
     "metadata": {},
     "output_type": "execute_result"
    }
   ],
   "source": [
    "x=[0,1,2,3]\n",
    "a=np.array(x) #从列表生成数组\n",
    "a"
   ]
  },
  {
   "cell_type": "code",
   "execution_count": 63,
   "id": "a4bbafe4",
   "metadata": {},
   "outputs": [
    {
     "data": {
      "text/plain": [
       "array([0., 0., 0., 0., 0.])"
      ]
     },
     "execution_count": 63,
     "metadata": {},
     "output_type": "execute_result"
    }
   ],
   "source": [
    "np.zeros(5)  #生成全0数组（默认浮点数类型）"
   ]
  },
  {
   "cell_type": "code",
   "execution_count": 64,
   "id": "00f348d2",
   "metadata": {},
   "outputs": [
    {
     "data": {
      "text/plain": [
       "array([1., 1., 1., 1.])"
      ]
     },
     "execution_count": 64,
     "metadata": {},
     "output_type": "execute_result"
    }
   ],
   "source": [
    "np.ones(4)   #生成全1数组"
   ]
  },
  {
   "cell_type": "code",
   "execution_count": 131,
   "id": "267f05de",
   "metadata": {},
   "outputs": [
    {
     "data": {
      "text/plain": [
       "array([1, 1, 1, 1, 1])"
      ]
     },
     "execution_count": 131,
     "metadata": {},
     "output_type": "execute_result"
    }
   ],
   "source": [
    "np.ones(5,dtype=int) #自定义数据类型"
   ]
  },
  {
   "cell_type": "markdown",
   "id": "3c6ace12",
   "metadata": {},
   "source": [
    "#### 构造矩阵再在外圈填充"
   ]
  },
  {
   "cell_type": "code",
   "execution_count": 261,
   "id": "05fc3d99",
   "metadata": {},
   "outputs": [
    {
     "data": {
      "text/plain": [
       "array([[0., 0., 0., 0., 0., 0., 0.],\n",
       "       [0., 1., 1., 1., 1., 1., 0.],\n",
       "       [0., 1., 1., 1., 1., 1., 0.],\n",
       "       [0., 1., 1., 1., 1., 1., 0.],\n",
       "       [0., 1., 1., 1., 1., 1., 0.],\n",
       "       [0., 1., 1., 1., 1., 1., 0.],\n",
       "       [0., 0., 0., 0., 0., 0., 0.]])"
      ]
     },
     "execution_count": 261,
     "metadata": {},
     "output_type": "execute_result"
    }
   ],
   "source": [
    "x = np.ones((5,5))\n",
    "x = np.pad(x, pad_width = 1, mode = 'constant', constant_values = 0)\n",
    "x"
   ]
  },
  {
   "cell_type": "markdown",
   "id": "d1ac7b1b",
   "metadata": {},
   "source": [
    "#### zeros_like and ones_like"
   ]
  },
  {
   "cell_type": "code",
   "execution_count": 157,
   "id": "b9f5d18a",
   "metadata": {},
   "outputs": [
    {
     "data": {
      "text/plain": [
       "array([0., 0., 0., 0., 0., 0.])"
      ]
     },
     "execution_count": 157,
     "metadata": {},
     "output_type": "execute_result"
    }
   ],
   "source": [
    "a = np.zeros_like(x)   # 生成和x形状相同的\n",
    "a "
   ]
  },
  {
   "cell_type": "code",
   "execution_count": 160,
   "id": "bc0fc901",
   "metadata": {},
   "outputs": [
    {
     "data": {
      "text/plain": [
       "array([1., 1., 1., 1., 1., 1.])"
      ]
     },
     "execution_count": 160,
     "metadata": {},
     "output_type": "execute_result"
    }
   ],
   "source": [
    "a= np.ones_like(x)\n",
    "a"
   ]
  },
  {
   "cell_type": "markdown",
   "id": "ecf2968e",
   "metadata": {},
   "source": [
    "#### 单位矩阵"
   ]
  },
  {
   "cell_type": "code",
   "execution_count": 166,
   "id": "a83c8bcb",
   "metadata": {},
   "outputs": [
    {
     "data": {
      "text/plain": [
       "array([[1, 0, 0, 0, 0, 0],\n",
       "       [0, 1, 0, 0, 0, 0],\n",
       "       [0, 0, 1, 0, 0, 0],\n",
       "       [0, 0, 0, 1, 0, 0],\n",
       "       [0, 0, 0, 0, 1, 0],\n",
       "       [0, 0, 0, 0, 0, 1]])"
      ]
     },
     "execution_count": 166,
     "metadata": {},
     "output_type": "execute_result"
    }
   ],
   "source": [
    "a = np.identity(6,dtype=int)\n",
    "a"
   ]
  },
  {
   "cell_type": "code",
   "execution_count": 163,
   "id": "46f6807e",
   "metadata": {},
   "outputs": [
    {
     "data": {
      "text/plain": [
       "array([[1., 0., 0., 0., 0., 0.],\n",
       "       [0., 1., 0., 0., 0., 0.],\n",
       "       [0., 0., 1., 0., 0., 0.],\n",
       "       [0., 0., 0., 1., 0., 0.],\n",
       "       [0., 0., 0., 0., 1., 0.],\n",
       "       [0., 0., 0., 0., 0., 1.]])"
      ]
     },
     "execution_count": 163,
     "metadata": {},
     "output_type": "execute_result"
    }
   ],
   "source": [
    "np.eye(6)"
   ]
  },
  {
   "cell_type": "markdown",
   "id": "d9512878",
   "metadata": {},
   "source": [
    "#### 清空再填充"
   ]
  },
  {
   "cell_type": "code",
   "execution_count": 266,
   "id": "4f7bb3c5",
   "metadata": {},
   "outputs": [
    {
     "data": {
      "text/plain": [
       "array([5., 5., 5., 5., 5., 5.])"
      ]
     },
     "execution_count": 266,
     "metadata": {},
     "output_type": "execute_result"
    }
   ],
   "source": [
    "x = np.empty(6)\n",
    "x.fill(5)\n",
    "x"
   ]
  },
  {
   "cell_type": "code",
   "execution_count": 267,
   "id": "c7c2ffc7",
   "metadata": {},
   "outputs": [
    {
     "data": {
      "text/plain": [
       "(6,)"
      ]
     },
     "execution_count": 267,
     "metadata": {},
     "output_type": "execute_result"
    }
   ],
   "source": [
    "x.shape"
   ]
  },
  {
   "cell_type": "code",
   "execution_count": 134,
   "id": "d59b58ee",
   "metadata": {},
   "outputs": [
    {
     "data": {
      "text/plain": [
       "array([5, 5, 5, 5])"
      ]
     },
     "execution_count": 134,
     "metadata": {},
     "output_type": "execute_result"
    }
   ],
   "source": [
    "a=np.array([1,2,3,4])\n",
    "a.fill(5)         #填充  array数组要求所有数据类型都是一致的\n",
    "a"
   ]
  },
  {
   "cell_type": "code",
   "execution_count": 154,
   "id": "e0838f79",
   "metadata": {},
   "outputs": [
    {
     "data": {
      "text/plain": [
       "array([2.5, 2.5, 2.5, 2.5])"
      ]
     },
     "execution_count": 154,
     "metadata": {},
     "output_type": "execute_result"
    }
   ],
   "source": [
    "a.fill(2.5)\n",
    "a"
   ]
  },
  {
   "cell_type": "code",
   "execution_count": 145,
   "id": "1009f712",
   "metadata": {},
   "outputs": [
    {
     "data": {
      "text/plain": [
       "array([2.5, 2.5, 2.5, 2.5])"
      ]
     },
     "execution_count": 145,
     "metadata": {},
     "output_type": "execute_result"
    }
   ],
   "source": [
    "a=a.astype(float)\n",
    "a.fill(2.5)\n",
    "a"
   ]
  },
  {
   "cell_type": "code",
   "execution_count": 76,
   "id": "2161a640",
   "metadata": {},
   "outputs": [
    {
     "data": {
      "text/plain": [
       "array([1, 4, 7])"
      ]
     },
     "execution_count": 76,
     "metadata": {},
     "output_type": "execute_result"
    }
   ],
   "source": [
    "a=np.arange(1,10,3)  #自定义生成数组\n",
    "a"
   ]
  },
  {
   "cell_type": "code",
   "execution_count": 3,
   "id": "f4f85111",
   "metadata": {},
   "outputs": [
    {
     "data": {
      "text/plain": [
       "array([ 1.  ,  1.45,  1.9 ,  2.35,  2.8 ,  3.25,  3.7 ,  4.15,  4.6 ,\n",
       "        5.05,  5.5 ,  5.95,  6.4 ,  6.85,  7.3 ,  7.75,  8.2 ,  8.65,\n",
       "        9.1 ,  9.55, 10.  ])"
      ]
     },
     "execution_count": 3,
     "metadata": {},
     "output_type": "execute_result"
    }
   ],
   "source": [
    "a=np.linspace(1,10,21) #生成等差数列 左闭右闭 （默认浮点数类型）\n",
    "type(a)  #a的类型\n",
    "a.dtype  #a数组里面每个数据的类型\n",
    "a.shape  #每一个维度的数目\n",
    "a.size   ##数组里元素的长度\n",
    "a.ndim   ##查看维度\n",
    "a"
   ]
  },
  {
   "cell_type": "code",
   "execution_count": 88,
   "id": "daea4c59",
   "metadata": {},
   "outputs": [
    {
     "data": {
      "text/plain": [
       "array([0.39663944, 0.26932048, 0.01445496, 0.3805527 , 0.65005597,\n",
       "       0.92177019, 0.09270587, 0.92760282, 0.96786617, 0.98216856,\n",
       "       0.05219423, 0.14784595, 0.83072451, 0.23686959, 0.10060807,\n",
       "       0.30142917, 0.30681525, 0.01552221, 0.13455933, 0.56897157])"
      ]
     },
     "execution_count": 88,
     "metadata": {},
     "output_type": "execute_result"
    }
   ],
   "source": [
    "np.random.rand(20)   #生成随机数 (0到1) (默认浮点数)       "
   ]
  },
  {
   "cell_type": "code",
   "execution_count": 91,
   "id": "9713366d",
   "metadata": {},
   "outputs": [
    {
     "data": {
      "text/plain": [
       "array([-0.08653258,  1.6479352 ,  0.95550936, -0.79192705, -0.81279082,\n",
       "       -1.31017198, -0.24873473,  0.79488617, -0.64035527, -0.27910704])"
      ]
     },
     "execution_count": 91,
     "metadata": {},
     "output_type": "execute_result"
    }
   ],
   "source": [
    "np.random.randn(10)  #标准正态分布的十个随机数"
   ]
  },
  {
   "cell_type": "code",
   "execution_count": 223,
   "id": "ba172beb",
   "metadata": {},
   "outputs": [
    {
     "data": {
      "text/plain": [
       "array([8, 9, 1, 8, 5, 5, 1, 3, 4, 9])"
      ]
     },
     "execution_count": 223,
     "metadata": {},
     "output_type": "execute_result"
    }
   ],
   "source": [
    "np.random.randint(1,10,10)  #1到9之间十个随机整数"
   ]
  },
  {
   "cell_type": "markdown",
   "id": "47ef4955",
   "metadata": {},
   "source": [
    "# 索引和切片"
   ]
  },
  {
   "cell_type": "code",
   "execution_count": 230,
   "id": "5e68cb68",
   "metadata": {},
   "outputs": [
    {
     "data": {
      "text/plain": [
       "array([0, 1, 5, 3])"
      ]
     },
     "execution_count": 230,
     "metadata": {},
     "output_type": "execute_result"
    }
   ],
   "source": [
    "a=np.array([0,1,2,3]) \n",
    "a[2]=5\n",
    "a"
   ]
  },
  {
   "cell_type": "code",
   "execution_count": 237,
   "id": "93bf252d",
   "metadata": {},
   "outputs": [
    {
     "data": {
      "text/plain": [
       "array([12, 13])"
      ]
     },
     "execution_count": 237,
     "metadata": {},
     "output_type": "execute_result"
    }
   ],
   "source": [
    "a=np.array([11,12,13,14,15])\n",
    "a[1:3]         #左闭右开\n",
    "a[:]\n",
    "a[-1]\n",
    "a[-1:2]\n",
    "a[-4:3]"
   ]
  },
  {
   "cell_type": "code",
   "execution_count": 255,
   "id": "d525619f",
   "metadata": {},
   "outputs": [
    {
     "data": {
      "text/plain": [
       "array([25000, 23450, 22240, 21800, 21000])"
      ]
     },
     "execution_count": 255,
     "metadata": {},
     "output_type": "execute_result"
    }
   ],
   "source": [
    "ob=np.array([21000,21800,22240,23450,25000])\n",
    "ob[1:]-ob[0:-1]\n",
    "ob[::-1]  #倒置"
   ]
  },
  {
   "cell_type": "markdown",
   "id": "6c9c0d8b",
   "metadata": {},
   "source": [
    "# 多维数组及其属性"
   ]
  },
  {
   "cell_type": "code",
   "execution_count": 244,
   "id": "ce307d3f",
   "metadata": {},
   "outputs": [
    {
     "data": {
      "text/plain": [
       "array([[ 0,  1,  2,  3],\n",
       "       [10, 11, 12, 13]])"
      ]
     },
     "execution_count": 244,
     "metadata": {},
     "output_type": "execute_result"
    }
   ],
   "source": [
    "a=np.array([[0,1,2,3],[10,11,12,13]])\n",
    "a"
   ]
  },
  {
   "cell_type": "code",
   "execution_count": 245,
   "id": "86cbe85e",
   "metadata": {},
   "outputs": [
    {
     "data": {
      "text/plain": [
       "(2, 4)"
      ]
     },
     "execution_count": 245,
     "metadata": {},
     "output_type": "execute_result"
    }
   ],
   "source": [
    "a.shape"
   ]
  },
  {
   "cell_type": "code",
   "execution_count": 246,
   "id": "3d84fb12",
   "metadata": {},
   "outputs": [
    {
     "data": {
      "text/plain": [
       "8"
      ]
     },
     "execution_count": 246,
     "metadata": {},
     "output_type": "execute_result"
    }
   ],
   "source": [
    "a.size"
   ]
  },
  {
   "cell_type": "code",
   "execution_count": 247,
   "id": "3510b5f2",
   "metadata": {},
   "outputs": [
    {
     "data": {
      "text/plain": [
       "2"
      ]
     },
     "execution_count": 247,
     "metadata": {},
     "output_type": "execute_result"
    }
   ],
   "source": [
    "a.ndim"
   ]
  },
  {
   "cell_type": "markdown",
   "id": "146050d1",
   "metadata": {},
   "source": [
    "# 多维数组切片"
   ]
  },
  {
   "cell_type": "code",
   "execution_count": 262,
   "id": "413b5137",
   "metadata": {},
   "outputs": [
    {
     "data": {
      "text/plain": [
       "array([[ 0,  1,  2,  3],\n",
       "       [10, 11, 12,  6],\n",
       "       [ 0,  1,  2,  3]])"
      ]
     },
     "execution_count": 262,
     "metadata": {},
     "output_type": "execute_result"
    }
   ],
   "source": [
    "a=np.array([[0,1,2,3],[10,11,12,13],[0,1,2,3]])\n",
    "a[1,3]=6\n",
    "a"
   ]
  },
  {
   "cell_type": "code",
   "execution_count": 263,
   "id": "bfc9de7b",
   "metadata": {},
   "outputs": [
    {
     "data": {
      "text/plain": [
       "array([0, 1, 2, 3])"
      ]
     },
     "execution_count": 263,
     "metadata": {},
     "output_type": "execute_result"
    }
   ],
   "source": [
    "a[0]   #第0行"
   ]
  },
  {
   "cell_type": "code",
   "execution_count": 273,
   "id": "8fde09df",
   "metadata": {},
   "outputs": [
    {
     "data": {
      "text/plain": [
       "array([ 1, 11,  1])"
      ]
     },
     "execution_count": 273,
     "metadata": {},
     "output_type": "execute_result"
    }
   ],
   "source": [
    "a[0:3,1]    #从第0行到第2行的第1列元素"
   ]
  },
  {
   "cell_type": "code",
   "execution_count": 278,
   "id": "7c26d818",
   "metadata": {},
   "outputs": [
    {
     "data": {
      "text/plain": [
       "array([6, 3])"
      ]
     },
     "execution_count": 278,
     "metadata": {},
     "output_type": "execute_result"
    }
   ],
   "source": [
    "a[1:,-1]   #第一行的最后两列"
   ]
  },
  {
   "cell_type": "code",
   "execution_count": 280,
   "id": "09e68994",
   "metadata": {},
   "outputs": [
    {
     "data": {
      "text/plain": [
       "array([10, 11])"
      ]
     },
     "execution_count": 280,
     "metadata": {},
     "output_type": "execute_result"
    }
   ],
   "source": [
    "a[1,0:2]   #第一行的前两个元素"
   ]
  },
  {
   "cell_type": "markdown",
   "id": "d34d27f1",
   "metadata": {},
   "source": [
    "# 切片是引用"
   ]
  },
  {
   "cell_type": "code",
   "execution_count": 282,
   "id": "c2d425f0",
   "metadata": {},
   "outputs": [
    {
     "data": {
      "text/plain": [
       "array([0, 1, 2, 3, 4])"
      ]
     },
     "execution_count": 282,
     "metadata": {},
     "output_type": "execute_result"
    }
   ],
   "source": [
    "a=np.array([0,1,2,3,4])\n",
    "b=a[:]\n",
    "b"
   ]
  },
  {
   "cell_type": "code",
   "execution_count": 285,
   "id": "1c3cf7b3",
   "metadata": {},
   "outputs": [
    {
     "data": {
      "text/plain": [
       "array([5, 1, 2, 3, 4])"
      ]
     },
     "execution_count": 285,
     "metadata": {},
     "output_type": "execute_result"
    }
   ],
   "source": [
    "b[0]=5       #改变b的值a的值也会改变 这种情况在列表中不会出现\n",
    "a"
   ]
  },
  {
   "cell_type": "code",
   "execution_count": 16,
   "id": "e020e166",
   "metadata": {},
   "outputs": [
    {
     "data": {
      "text/plain": [
       "array([0, 1, 2, 3, 4])"
      ]
     },
     "execution_count": 16,
     "metadata": {},
     "output_type": "execute_result"
    }
   ],
   "source": [
    "import numpy as np\n",
    "a=np.array([0,1,2,3,4])\n",
    "b=a[:].copy()  #使用copy()函数来深拷贝 改变b的值不回改变a的值\n",
    "b[0]=10\n",
    "a"
   ]
  },
  {
   "cell_type": "code",
   "execution_count": 20,
   "id": "88b4e4c3",
   "metadata": {},
   "outputs": [
    {
     "data": {
      "text/plain": [
       "array([ 0, 10, 20, 30, 40, 50, 60, 70, 80, 90])"
      ]
     },
     "execution_count": 20,
     "metadata": {},
     "output_type": "execute_result"
    }
   ],
   "source": [
    "a=np.arange(0,100,10)\n",
    "a"
   ]
  },
  {
   "cell_type": "markdown",
   "id": "8e3033cf",
   "metadata": {},
   "source": [
    "# 花式索引"
   ]
  },
  {
   "cell_type": "markdown",
   "id": "b95f2a14",
   "metadata": {},
   "source": [
    "# 一维花式索引"
   ]
  },
  {
   "cell_type": "code",
   "execution_count": 22,
   "id": "a3d60b45",
   "metadata": {},
   "outputs": [
    {
     "data": {
      "text/plain": [
       "array([10, 20, 70])"
      ]
     },
     "execution_count": 22,
     "metadata": {},
     "output_type": "execute_result"
    }
   ],
   "source": [
    "index=[1,2,-3]\n",
    "y=a[index]\n",
    "y"
   ]
  },
  {
   "cell_type": "code",
   "execution_count": 30,
   "id": "cd603c6a",
   "metadata": {},
   "outputs": [
    {
     "data": {
      "text/plain": [
       "array([False,  True,  True, False, False,  True, False, False,  True,\n",
       "       False])"
      ]
     },
     "execution_count": 30,
     "metadata": {},
     "output_type": "execute_result"
    }
   ],
   "source": [
    "mask=np.array([0,2,2,0,0,1,0,0,1,0],dtype=bool)\n",
    "mask"
   ]
  },
  {
   "cell_type": "code",
   "execution_count": 33,
   "id": "6e4cb83a",
   "metadata": {},
   "outputs": [
    {
     "data": {
      "text/plain": [
       "array([10, 20, 50, 80])"
      ]
     },
     "execution_count": 33,
     "metadata": {},
     "output_type": "execute_result"
    }
   ],
   "source": [
    "a[mask]     #mask中为true的对应a的索引 打印出来值"
   ]
  },
  {
   "cell_type": "markdown",
   "id": "5447056b",
   "metadata": {},
   "source": [
    "# 二维花式索引"
   ]
  },
  {
   "cell_type": "code",
   "execution_count": 36,
   "id": "c8f8fcac",
   "metadata": {},
   "outputs": [
    {
     "data": {
      "text/plain": [
       "array([[ 0,  1,  2,  3,  4,  5],\n",
       "       [10, 11, 12, 13, 14, 15],\n",
       "       [20, 21, 22, 23, 24, 25],\n",
       "       [30, 31, 32, 33, 34, 35],\n",
       "       [40, 41, 42, 43, 44, 45],\n",
       "       [50, 51, 52, 53, 54, 55]])"
      ]
     },
     "execution_count": 36,
     "metadata": {},
     "output_type": "execute_result"
    }
   ],
   "source": [
    "a=np.array([[0,1,2,3,4,5],[10,11,12,13,14,15],[20,21,22,23,24,25],[30,31,32,33,34,35],[40,41,42,43,44,45],[50,51,52,53,54,55]])\n",
    "a"
   ]
  },
  {
   "cell_type": "code",
   "execution_count": 39,
   "id": "66ebba54",
   "metadata": {},
   "outputs": [
    {
     "data": {
      "text/plain": [
       "array([ 1, 12, 23, 34, 45])"
      ]
     },
     "execution_count": 39,
     "metadata": {},
     "output_type": "execute_result"
    }
   ],
   "source": [
    "a[(0,1,2,3,4),(1,2,3,4,5)]  #可以取任一对角线的元素"
   ]
  },
  {
   "cell_type": "code",
   "execution_count": 44,
   "id": "c4b1d6c0",
   "metadata": {},
   "outputs": [
    {
     "data": {
      "text/plain": [
       "array([[30, 32, 34],\n",
       "       [40, 42, 44],\n",
       "       [50, 52, 54]])"
      ]
     },
     "execution_count": 44,
     "metadata": {},
     "output_type": "execute_result"
    }
   ],
   "source": [
    "a[3:,0::2]  #两种方法都可以取出最后三行的0,2,4列\n",
    "a[3:,[0,2,4]]"
   ]
  },
  {
   "cell_type": "markdown",
   "id": "e0fe6402",
   "metadata": {},
   "source": [
    "#### 注：与切片不同，花式索引返回的是原对象的一个复制而不是引用。"
   ]
  },
  {
   "cell_type": "markdown",
   "id": "fd3c56a3",
   "metadata": {},
   "source": [
    "# “不完全”索引"
   ]
  },
  {
   "cell_type": "code",
   "execution_count": 47,
   "id": "37577467",
   "metadata": {},
   "outputs": [
    {
     "data": {
      "text/plain": [
       "array([[ 0,  1,  2,  3,  4,  5],\n",
       "       [10, 11, 12, 13, 14, 15],\n",
       "       [20, 21, 22, 23, 24, 25]])"
      ]
     },
     "execution_count": 47,
     "metadata": {},
     "output_type": "execute_result"
    }
   ],
   "source": [
    "y=a[:3]\n",
    "y"
   ]
  },
  {
   "cell_type": "code",
   "execution_count": 49,
   "id": "ae92f9be",
   "metadata": {},
   "outputs": [
    {
     "data": {
      "text/plain": [
       "array([[10, 11, 12, 13, 14, 15],\n",
       "       [20, 21, 22, 23, 24, 25],\n",
       "       [40, 41, 42, 43, 44, 45]])"
      ]
     },
     "execution_count": 49,
     "metadata": {},
     "output_type": "execute_result"
    }
   ],
   "source": [
    "con=np.array([0,1,1,0,1,0],dtype=bool)\n",
    "a[con]"
   ]
  },
  {
   "cell_type": "markdown",
   "id": "e489e71f",
   "metadata": {},
   "source": [
    "# where语句"
   ]
  },
  {
   "cell_type": "markdown",
   "id": "ea542156",
   "metadata": {},
   "source": [
    "#### where函数会返回所有非零元素的索引"
   ]
  },
  {
   "cell_type": "code",
   "execution_count": 51,
   "id": "7e55e70a",
   "metadata": {},
   "outputs": [],
   "source": [
    "a=np.array([0,12,5,20])"
   ]
  },
  {
   "cell_type": "code",
   "execution_count": 52,
   "id": "caf03b45",
   "metadata": {},
   "outputs": [
    {
     "data": {
      "text/plain": [
       "array([False,  True, False,  True])"
      ]
     },
     "execution_count": 52,
     "metadata": {},
     "output_type": "execute_result"
    }
   ],
   "source": [
    "a>10"
   ]
  },
  {
   "cell_type": "code",
   "execution_count": 53,
   "id": "ec8ed3f6",
   "metadata": {},
   "outputs": [
    {
     "data": {
      "text/plain": [
       "(array([1, 3], dtype=int64),)"
      ]
     },
     "execution_count": 53,
     "metadata": {},
     "output_type": "execute_result"
    }
   ],
   "source": [
    "np.where(a>10)"
   ]
  },
  {
   "cell_type": "code",
   "execution_count": 55,
   "id": "8826701b",
   "metadata": {},
   "outputs": [
    {
     "data": {
      "text/plain": [
       "array([12, 20])"
      ]
     },
     "execution_count": 55,
     "metadata": {},
     "output_type": "execute_result"
    }
   ],
   "source": [
    "a[a>10]"
   ]
  },
  {
   "cell_type": "code",
   "execution_count": 57,
   "id": "053cf024",
   "metadata": {},
   "outputs": [
    {
     "data": {
      "text/plain": [
       "array([12, 20])"
      ]
     },
     "execution_count": 57,
     "metadata": {},
     "output_type": "execute_result"
    }
   ],
   "source": [
    "a[np.where(a>10)] #与上面数组操作答案一致"
   ]
  },
  {
   "cell_type": "markdown",
   "id": "9b947dd4",
   "metadata": {},
   "source": [
    "# 数组类型转换"
   ]
  },
  {
   "cell_type": "code",
   "execution_count": 73,
   "id": "49dd536b",
   "metadata": {},
   "outputs": [
    {
     "data": {
      "text/plain": [
       "array([ 1.5, -3. ])"
      ]
     },
     "execution_count": 73,
     "metadata": {},
     "output_type": "execute_result"
    }
   ],
   "source": [
    "a=np.array([1.5,-3],dtype=float)\n",
    "a"
   ]
  },
  {
   "cell_type": "markdown",
   "id": "aa7d624c",
   "metadata": {},
   "source": [
    " ##### asarray函数"
   ]
  },
  {
   "cell_type": "code",
   "execution_count": 26,
   "id": "66efcbfe",
   "metadata": {},
   "outputs": [
    {
     "data": {
      "text/plain": [
       "array([1, 2, 3])"
      ]
     },
     "execution_count": 26,
     "metadata": {},
     "output_type": "execute_result"
    }
   ],
   "source": [
    "a=np.array([1,2,3])\n",
    "a"
   ]
  },
  {
   "cell_type": "code",
   "execution_count": 29,
   "id": "f8b11e77",
   "metadata": {},
   "outputs": [
    {
     "data": {
      "text/plain": [
       "array([1., 2., 3.], dtype=float32)"
      ]
     },
     "execution_count": 29,
     "metadata": {},
     "output_type": "execute_result"
    }
   ],
   "source": [
    "np.asarray(a,dtype=np.float32) #不写dtype也可以"
   ]
  },
  {
   "cell_type": "markdown",
   "id": "a43b24b0",
   "metadata": {},
   "source": [
    "#### astype方法"
   ]
  },
  {
   "cell_type": "code",
   "execution_count": 31,
   "id": "dfa6f227",
   "metadata": {},
   "outputs": [
    {
     "data": {
      "text/plain": [
       "array([1., 2., 3.], dtype=float32)"
      ]
     },
     "execution_count": 31,
     "metadata": {},
     "output_type": "execute_result"
    }
   ],
   "source": [
    "a=np.array([1,2,3])\n",
    "b=a.astype(np.float32)\n",
    "b"
   ]
  },
  {
   "cell_type": "code",
   "execution_count": 85,
   "id": "81482787",
   "metadata": {},
   "outputs": [
    {
     "data": {
      "text/plain": [
       "array([1, 2, 3])"
      ]
     },
     "execution_count": 85,
     "metadata": {},
     "output_type": "execute_result"
    }
   ],
   "source": [
    "a      #使用astype方法，a不会发生变化"
   ]
  },
  {
   "cell_type": "markdown",
   "id": "26c447f5",
   "metadata": {},
   "source": [
    "# 数组操作"
   ]
  },
  {
   "cell_type": "code",
   "execution_count": 4,
   "id": "965b2ede",
   "metadata": {},
   "outputs": [],
   "source": [
    "#电影名称\n",
    "mv_name=['肖申克的救赎','控方证人','美丽人生','阿甘正传','霸王别姬','泰坦尼克号','辛德勒的名单','这个杀手不太冷','疯狂动物城','海豚湾']"
   ]
  },
  {
   "cell_type": "code",
   "execution_count": 8,
   "id": "179f4fd5",
   "metadata": {},
   "outputs": [],
   "source": [
    "#评分人数\n",
    "mv_num=np.array([692795,42995,327855,580897,478523,157074,306904,662552,284652,159302])"
   ]
  },
  {
   "cell_type": "code",
   "execution_count": 9,
   "id": "36668996",
   "metadata": {},
   "outputs": [],
   "source": [
    "#评分\n",
    "mv_score=np.array([9.6,9.5,9.5,9.4,9.4,9.4,9.4,9.3,9.3,9.3])"
   ]
  },
  {
   "cell_type": "code",
   "execution_count": 10,
   "id": "fe2c0284",
   "metadata": {},
   "outputs": [],
   "source": [
    "#电影时长（分钟）\n",
    "mv_length=np.array([142,116,116,142,171,194,195,133,109,92])"
   ]
  },
  {
   "cell_type": "markdown",
   "id": "00043bf8",
   "metadata": {},
   "source": [
    "## 数组排序"
   ]
  },
  {
   "cell_type": "markdown",
   "id": "224cef28",
   "metadata": {},
   "source": [
    "#### sort函数"
   ]
  },
  {
   "cell_type": "code",
   "execution_count": 52,
   "id": "3b460dbe",
   "metadata": {},
   "outputs": [
    {
     "data": {
      "text/plain": [
       "array([ 42995, 157074, 159302, 284652, 306904, 327855, 478523, 580897,\n",
       "       662552, 692795])"
      ]
     },
     "execution_count": 52,
     "metadata": {},
     "output_type": "execute_result"
    }
   ],
   "source": [
    "np.sort(mv_num)"
   ]
  },
  {
   "cell_type": "code",
   "execution_count": 54,
   "id": "7a086885",
   "metadata": {},
   "outputs": [
    {
     "data": {
      "text/plain": [
       "array([[0, 1, 5],\n",
       "       [5, 6, 8]])"
      ]
     },
     "execution_count": 54,
     "metadata": {},
     "output_type": "execute_result"
    }
   ],
   "source": [
    "a = np.array([[1,0,5],[6,5,8]])  # 不写参数的话默认最后一维 也就是axis=1 x轴\n",
    "np.sort(a)"
   ]
  },
  {
   "cell_type": "markdown",
   "id": "6ad96346",
   "metadata": {},
   "source": [
    "#### argsort函数 （返回从小到大的排列在数组中的索引位置）"
   ]
  },
  {
   "cell_type": "code",
   "execution_count": 42,
   "id": "30909607",
   "metadata": {},
   "outputs": [
    {
     "data": {
      "text/plain": [
       "array([1, 5, 9, 8, 6, 2, 4, 3, 7, 0], dtype=int64)"
      ]
     },
     "execution_count": 42,
     "metadata": {},
     "output_type": "execute_result"
    }
   ],
   "source": [
    "order=np.argsort(mv_num)\n",
    "order"
   ]
  },
  {
   "cell_type": "code",
   "execution_count": 101,
   "id": "add52933",
   "metadata": {},
   "outputs": [
    {
     "data": {
      "text/plain": [
       "'肖申克的救赎'"
      ]
     },
     "execution_count": 101,
     "metadata": {},
     "output_type": "execute_result"
    }
   ],
   "source": [
    "mv_name[order[-1]]"
   ]
  },
  {
   "cell_type": "code",
   "execution_count": 59,
   "id": "50ade612",
   "metadata": {},
   "outputs": [
    {
     "data": {
      "text/plain": [
       "array([[1, 2, 6],\n",
       "       [4, 5, 6],\n",
       "       [7, 8, 9]])"
      ]
     },
     "execution_count": 59,
     "metadata": {},
     "output_type": "execute_result"
    }
   ],
   "source": [
    "b = np.array([[1,2,6],[4,5,6],[7,8,9]])\n",
    "b"
   ]
  },
  {
   "cell_type": "code",
   "execution_count": 61,
   "id": "b57de3cd",
   "metadata": {},
   "outputs": [
    {
     "data": {
      "text/plain": [
       "array([[4, 5, 6],\n",
       "       [1, 2, 6],\n",
       "       [7, 8, 9]])"
      ]
     },
     "execution_count": 61,
     "metadata": {},
     "output_type": "execute_result"
    }
   ],
   "source": [
    "index = np.lexsort([-1*b[:,0],b[:,2]])  # 在第三列升序的情况下按照第一列降序\n",
    "b[index]"
   ]
  },
  {
   "cell_type": "markdown",
   "id": "11035c24",
   "metadata": {},
   "source": [
    "#### 求和"
   ]
  },
  {
   "cell_type": "code",
   "execution_count": 24,
   "id": "871ff636",
   "metadata": {},
   "outputs": [
    {
     "data": {
      "text/plain": [
       "3693549"
      ]
     },
     "execution_count": 24,
     "metadata": {},
     "output_type": "execute_result"
    }
   ],
   "source": [
    "np.sum(mv_num)\n",
    "mv_num.sum() #两种方法均可"
   ]
  },
  {
   "cell_type": "markdown",
   "id": "ef3c0fed",
   "metadata": {},
   "source": [
    "#### 求积"
   ]
  },
  {
   "cell_type": "code",
   "execution_count": 61,
   "id": "5912bd28",
   "metadata": {},
   "outputs": [
    {
     "data": {
      "text/plain": [
       "472183808"
      ]
     },
     "execution_count": 61,
     "metadata": {},
     "output_type": "execute_result"
    }
   ],
   "source": [
    "np.prod(mv_num) \n",
    "mv_num.prod()"
   ]
  },
  {
   "cell_type": "markdown",
   "id": "c0689900",
   "metadata": {},
   "source": [
    "#### 相邻元素之间的差"
   ]
  },
  {
   "cell_type": "code",
   "execution_count": 14,
   "id": "c81cb173",
   "metadata": {},
   "outputs": [
    {
     "data": {
      "text/plain": [
       "array([-649800,  284860,  253042, -102374, -321449,  149830,  355648,\n",
       "       -377900, -125350])"
      ]
     },
     "execution_count": 14,
     "metadata": {},
     "output_type": "execute_result"
    }
   ],
   "source": [
    "np.diff(mv_num)  #mv_num.diff() 不能使用\n",
    "# mv_num.diff()"
   ]
  },
  {
   "cell_type": "markdown",
   "id": "8caed4e0",
   "metadata": {},
   "source": [
    "#### 各元素的平方根"
   ]
  },
  {
   "cell_type": "code",
   "execution_count": 73,
   "id": "6f588fad",
   "metadata": {},
   "outputs": [
    {
     "data": {
      "text/plain": [
       "array([832.3430783 , 207.35235711, 572.58623805, 762.16599242,\n",
       "       691.75356884, 396.3256237 , 553.98916957, 813.97297252,\n",
       "       533.52788118, 399.12654635])"
      ]
     },
     "execution_count": 73,
     "metadata": {},
     "output_type": "execute_result"
    }
   ],
   "source": [
    "np.sqrt(mv_num) #mv_num.sqrt()不能使用"
   ]
  },
  {
   "cell_type": "markdown",
   "id": "9d131334",
   "metadata": {},
   "source": [
    "#### 各元素的绝对值"
   ]
  },
  {
   "cell_type": "code",
   "execution_count": 76,
   "id": "95024597",
   "metadata": {},
   "outputs": [
    {
     "data": {
      "text/plain": [
       "array([692795,  42995, 327855, 580897, 478523, 157074, 306904, 662552,\n",
       "       284652, 159302])"
      ]
     },
     "execution_count": 76,
     "metadata": {},
     "output_type": "execute_result"
    }
   ],
   "source": [
    "np.abs(mv_num)  #mv_num.abs()不能使用"
   ]
  },
  {
   "cell_type": "markdown",
   "id": "e673860c",
   "metadata": {},
   "source": [
    "#### 最大值"
   ]
  },
  {
   "cell_type": "code",
   "execution_count": 107,
   "id": "2d43cc55",
   "metadata": {},
   "outputs": [
    {
     "data": {
      "text/plain": [
       "692795"
      ]
     },
     "execution_count": 107,
     "metadata": {},
     "output_type": "execute_result"
    }
   ],
   "source": [
    "np.max(mv_num)\n",
    "mv_num.max()"
   ]
  },
  {
   "cell_type": "markdown",
   "id": "bd1b0cba",
   "metadata": {},
   "source": [
    "#### 最小值"
   ]
  },
  {
   "cell_type": "code",
   "execution_count": null,
   "id": "d08e5479",
   "metadata": {},
   "outputs": [],
   "source": [
    "np.min(mv_length)\n",
    "mv_length.min()"
   ]
  },
  {
   "cell_type": "markdown",
   "id": "38bc03a9",
   "metadata": {},
   "source": [
    "#### 均值"
   ]
  },
  {
   "cell_type": "code",
   "execution_count": 112,
   "id": "5d3d7051",
   "metadata": {},
   "outputs": [
    {
     "data": {
      "text/plain": [
       "141.0"
      ]
     },
     "execution_count": 112,
     "metadata": {},
     "output_type": "execute_result"
    }
   ],
   "source": [
    "np.mean(mv_length)\n",
    "mv_length.mean()"
   ]
  },
  {
   "cell_type": "markdown",
   "id": "b70a0264",
   "metadata": {},
   "source": [
    "#### 中位数"
   ]
  },
  {
   "cell_type": "code",
   "execution_count": 11,
   "id": "95af5596",
   "metadata": {},
   "outputs": [],
   "source": [
    "nums = [1,2,3,4]"
   ]
  },
  {
   "cell_type": "code",
   "execution_count": 23,
   "id": "0c7e804f",
   "metadata": {},
   "outputs": [
    {
     "data": {
      "text/plain": [
       "2.5"
      ]
     },
     "execution_count": 23,
     "metadata": {},
     "output_type": "execute_result"
    }
   ],
   "source": [
    "np.median(nums)"
   ]
  },
  {
   "cell_type": "markdown",
   "id": "8ffab6d5",
   "metadata": {},
   "source": [
    "#### 众数"
   ]
  },
  {
   "cell_type": "code",
   "execution_count": 24,
   "id": "18a2dfb4",
   "metadata": {},
   "outputs": [],
   "source": [
    "#在pandas里有 nums.mode()[0]"
   ]
  },
  {
   "cell_type": "markdown",
   "id": "0a88eedf",
   "metadata": {},
   "source": [
    "#### 标准差"
   ]
  },
  {
   "cell_type": "code",
   "execution_count": 114,
   "id": "d7a0652b",
   "metadata": {},
   "outputs": [
    {
     "data": {
      "text/plain": [
       "33.713498780162226"
      ]
     },
     "execution_count": 114,
     "metadata": {},
     "output_type": "execute_result"
    }
   ],
   "source": [
    "np.std(mv_length)\n",
    "mv_length.std()"
   ]
  },
  {
   "cell_type": "markdown",
   "id": "c2455a50",
   "metadata": {},
   "source": [
    "#### 方差"
   ]
  },
  {
   "cell_type": "code",
   "execution_count": 43,
   "id": "4b75a151",
   "metadata": {},
   "outputs": [
    {
     "data": {
      "text/plain": [
       "1136.6"
      ]
     },
     "execution_count": 43,
     "metadata": {},
     "output_type": "execute_result"
    }
   ],
   "source": [
    "np.var(mv_length)"
   ]
  },
  {
   "cell_type": "code",
   "execution_count": 49,
   "id": "63fdea5a",
   "metadata": {},
   "outputs": [
    {
     "data": {
      "text/plain": [
       "array([0.6, 1. , 0.9, 0.1])"
      ]
     },
     "execution_count": 49,
     "metadata": {},
     "output_type": "execute_result"
    }
   ],
   "source": [
    "x = np.array([0.55, 0.96, 0.88, 0.13])\n",
    "np.round(x,1)  #保留一位小数"
   ]
  },
  {
   "cell_type": "markdown",
   "id": "953df3b4",
   "metadata": {},
   "source": [
    "#### 相关系数矩阵"
   ]
  },
  {
   "cell_type": "code",
   "execution_count": 44,
   "id": "2dfca957",
   "metadata": {},
   "outputs": [
    {
     "data": {
      "text/plain": [
       "array([[9.88888889e-03, 4.55555556e-01],\n",
       "       [4.55555556e-01, 1.26288889e+03]])"
      ]
     },
     "execution_count": 44,
     "metadata": {},
     "output_type": "execute_result"
    }
   ],
   "source": [
    "np.cov(mv_score,mv_length)  #查看相关系数（相关性）"
   ]
  },
  {
   "cell_type": "markdown",
   "id": "78058ec4",
   "metadata": {},
   "source": [
    "# 多维数组操作"
   ]
  },
  {
   "cell_type": "markdown",
   "id": "bdd4c75a",
   "metadata": {},
   "source": [
    "#### 数组形状"
   ]
  },
  {
   "cell_type": "code",
   "execution_count": 17,
   "id": "e2aa9bb1",
   "metadata": {},
   "outputs": [
    {
     "data": {
      "text/plain": [
       "array([0, 1, 2, 3, 4, 5])"
      ]
     },
     "execution_count": 17,
     "metadata": {},
     "output_type": "execute_result"
    }
   ],
   "source": [
    "a=np.arange(6)\n",
    "a"
   ]
  },
  {
   "cell_type": "code",
   "execution_count": 18,
   "id": "a5a64912",
   "metadata": {},
   "outputs": [
    {
     "data": {
      "text/plain": [
       "array([[0, 1, 2],\n",
       "       [3, 4, 5]])"
      ]
     },
     "execution_count": 18,
     "metadata": {},
     "output_type": "execute_result"
    }
   ],
   "source": [
    "a.shape=2,3  #变成2行3列 a数组也会改变\n",
    "a"
   ]
  },
  {
   "cell_type": "code",
   "execution_count": 19,
   "id": "d18fd5c7",
   "metadata": {},
   "outputs": [
    {
     "data": {
      "text/plain": [
       "(2, 3)"
      ]
     },
     "execution_count": 19,
     "metadata": {},
     "output_type": "execute_result"
    }
   ],
   "source": [
    "a.shape     #查看形状"
   ]
  },
  {
   "cell_type": "code",
   "execution_count": 22,
   "id": "4c58583a",
   "metadata": {},
   "outputs": [
    {
     "data": {
      "text/plain": [
       "array([0, 1, 2, 3, 4, 5])"
      ]
     },
     "execution_count": 22,
     "metadata": {},
     "output_type": "execute_result"
    }
   ],
   "source": [
    "a=np.arange(6)\n",
    "a"
   ]
  },
  {
   "cell_type": "code",
   "execution_count": 156,
   "id": "4bb81565",
   "metadata": {},
   "outputs": [
    {
     "data": {
      "text/plain": [
       "array([[0, 1, 2],\n",
       "       [3, 4, 5]])"
      ]
     },
     "execution_count": 156,
     "metadata": {},
     "output_type": "execute_result"
    }
   ],
   "source": [
    "a.reshape(2,3) #a不会改变"
   ]
  },
  {
   "cell_type": "code",
   "execution_count": 174,
   "id": "5f06a804",
   "metadata": {},
   "outputs": [
    {
     "data": {
      "text/plain": [
       "(4,)"
      ]
     },
     "execution_count": 174,
     "metadata": {},
     "output_type": "execute_result"
    }
   ],
   "source": [
    "a = np.array([[1, 2, 3, 4]])\n",
    "\n",
    "a = np.squeeze(a)  #压缩没必要的维数 把空轴去掉\n",
    "a.shape"
   ]
  },
  {
   "cell_type": "markdown",
   "id": "d584e904",
   "metadata": {},
   "source": [
    "#### 转置"
   ]
  },
  {
   "cell_type": "code",
   "execution_count": 78,
   "id": "468d04d4",
   "metadata": {},
   "outputs": [
    {
     "data": {
      "text/plain": [
       "array([[1, 2],\n",
       "       [3, 4]])"
      ]
     },
     "execution_count": 78,
     "metadata": {},
     "output_type": "execute_result"
    }
   ],
   "source": [
    "a=np.array([[1, 2], [3, 4]]) \n",
    "a"
   ]
  },
  {
   "cell_type": "code",
   "execution_count": 91,
   "id": "f9a3d013",
   "metadata": {},
   "outputs": [
    {
     "data": {
      "text/plain": [
       "array([[1, 3],\n",
       "       [2, 4]])"
      ]
     },
     "execution_count": 91,
     "metadata": {},
     "output_type": "execute_result"
    }
   ],
   "source": [
    "# a.T           #不用转化为矩阵就可转置 与求逆矩阵不同\n",
    "a.transpose()  #两个操作都可以转置"
   ]
  },
  {
   "cell_type": "code",
   "execution_count": 92,
   "id": "14c3cb26",
   "metadata": {},
   "outputs": [
    {
     "data": {
      "text/plain": [
       "array([[1, 2],\n",
       "       [3, 4]])"
      ]
     },
     "execution_count": 92,
     "metadata": {},
     "output_type": "execute_result"
    }
   ],
   "source": [
    "a   #执行转置后a数组不会改变"
   ]
  },
  {
   "cell_type": "markdown",
   "id": "4b041acd",
   "metadata": {},
   "source": [
    "#### 矩阵求逆"
   ]
  },
  {
   "cell_type": "code",
   "execution_count": 135,
   "id": "dc56dcf5",
   "metadata": {},
   "outputs": [
    {
     "data": {
      "text/plain": [
       "array([[-1, -4],\n",
       "       [ 2,  7]])"
      ]
     },
     "execution_count": 135,
     "metadata": {},
     "output_type": "execute_result"
    }
   ],
   "source": [
    "a=np.array([[1, 2], [-1, -3]])  # 初始化一个非奇异矩阵(数组)\n",
    "b=np.mat(a)  #转化为矩阵"
   ]
  },
  {
   "cell_type": "code",
   "execution_count": 129,
   "id": "9cf7cdd9",
   "metadata": {
    "scrolled": true
   },
   "outputs": [
    {
     "data": {
      "text/plain": [
       "array([[ 3.,  2.],\n",
       "       [-1., -1.]])"
      ]
     },
     "execution_count": 129,
     "metadata": {},
     "output_type": "execute_result"
    }
   ],
   "source": [
    "np.linalg.inv(a)   #如果a不可逆则可以求出伪逆（广义逆矩阵）"
   ]
  },
  {
   "cell_type": "code",
   "execution_count": 136,
   "id": "65a68e31",
   "metadata": {},
   "outputs": [
    {
     "data": {
      "text/plain": [
       "matrix([[ 3.,  2.],\n",
       "        [-1., -1.]])"
      ]
     },
     "execution_count": 136,
     "metadata": {},
     "output_type": "execute_result"
    }
   ],
   "source": [
    "np.matrix(a).I   #如果a不可逆将报错\n",
    "b.I              #使用前必须转化为矩阵 "
   ]
  },
  {
   "cell_type": "markdown",
   "id": "abd044e7",
   "metadata": {},
   "source": [
    "#### 矩阵相乘"
   ]
  },
  {
   "cell_type": "code",
   "execution_count": 7,
   "id": "4c13bbd3",
   "metadata": {},
   "outputs": [
    {
     "data": {
      "text/plain": [
       "array([[1, 2, 3, 1],\n",
       "       [0, 0, 0, 1],\n",
       "       [0, 0, 1, 0],\n",
       "       [0, 0, 0, 1]])"
      ]
     },
     "execution_count": 7,
     "metadata": {},
     "output_type": "execute_result"
    }
   ],
   "source": [
    "import numpy as np\n",
    "a1 = np.array([[1,2,1,0],[0,0,1,0],[0,0,0,1],[0,0,1,0]])\n",
    "a2 = a1.dot(a1)  #a1的平方\n",
    "np.dot(a1,a1)    #a1的平方\n",
    "np.matmul(a1,a1)  #a1的平方"
   ]
  },
  {
   "cell_type": "markdown",
   "id": "966e7487",
   "metadata": {},
   "source": [
    "#### 矩阵对应位置相乘"
   ]
  },
  {
   "cell_type": "code",
   "execution_count": 169,
   "id": "c5804047",
   "metadata": {},
   "outputs": [
    {
     "data": {
      "text/plain": [
       "array([4, 9])"
      ]
     },
     "execution_count": 169,
     "metadata": {},
     "output_type": "execute_result"
    }
   ],
   "source": [
    "x = [2,3]\n",
    "y = [2,3]\n",
    "np.multiply(x,y)"
   ]
  },
  {
   "cell_type": "markdown",
   "id": "d938b5b8",
   "metadata": {},
   "source": [
    "#### 解线性方程组"
   ]
  },
  {
   "cell_type": "code",
   "execution_count": 171,
   "id": "df24f380",
   "metadata": {},
   "outputs": [],
   "source": [
    "a=np.array([[3,1],[1,2]])   #AX=b\n",
    "b=np.array([9,8])    "
   ]
  },
  {
   "cell_type": "code",
   "execution_count": 172,
   "id": "f3983ff6",
   "metadata": {},
   "outputs": [
    {
     "data": {
      "text/plain": [
       "array([2., 3.])"
      ]
     },
     "execution_count": 172,
     "metadata": {},
     "output_type": "execute_result"
    }
   ],
   "source": [
    "x = np.linalg.solve(a,b)   #np.linalg.solve(A,b)\n",
    "x"
   ]
  },
  {
   "cell_type": "markdown",
   "id": "e3379e64",
   "metadata": {},
   "source": [
    "#### 数组连接"
   ]
  },
  {
   "cell_type": "code",
   "execution_count": 310,
   "id": "0a1092c2",
   "metadata": {},
   "outputs": [
    {
     "name": "stdout",
     "output_type": "stream",
     "text": [
      "(2, 3)\n",
      "(2, 3)\n"
     ]
    }
   ],
   "source": [
    "x=np.array([[0,1,2],[10,11,12]])\n",
    "y=np.array([[50,51,52],[60,61,62]])\n",
    "print(x.shape)\n",
    "print(y.shape)"
   ]
  },
  {
   "cell_type": "markdown",
   "id": "fa1ac490",
   "metadata": {},
   "source": [
    "#### 默认沿着第一维进行连接"
   ]
  },
  {
   "cell_type": "code",
   "execution_count": 311,
   "id": "03a5c251",
   "metadata": {},
   "outputs": [
    {
     "data": {
      "text/plain": [
       "array([[ 0,  1,  2],\n",
       "       [10, 11, 12],\n",
       "       [50, 51, 52],\n",
       "       [60, 61, 62]])"
      ]
     },
     "execution_count": 311,
     "metadata": {},
     "output_type": "execute_result"
    }
   ],
   "source": [
    "z=np.concatenate((x,y)) # 传元组形式\n",
    "z"
   ]
  },
  {
   "cell_type": "markdown",
   "id": "79fc4727",
   "metadata": {},
   "source": [
    "#### 沿着第二维进行连接"
   ]
  },
  {
   "cell_type": "code",
   "execution_count": 313,
   "id": "24eee43c",
   "metadata": {},
   "outputs": [
    {
     "data": {
      "text/plain": [
       "array([[ 0,  1,  2, 50, 51, 52],\n",
       "       [10, 11, 12, 60, 61, 62]])"
      ]
     },
     "execution_count": 313,
     "metadata": {},
     "output_type": "execute_result"
    }
   ],
   "source": [
    "np.concatenate((x,y),axis=1) #默认axis=0(纵向连接)若axis=1则横向连接\n"
   ]
  },
  {
   "cell_type": "code",
   "execution_count": 82,
   "id": "e970d2d3",
   "metadata": {},
   "outputs": [
    {
     "data": {
      "text/plain": [
       "array([[ 0,  1,  2],\n",
       "       [10, 11, 12],\n",
       "       [50, 51, 52],\n",
       "       [60, 61, 62]])"
      ]
     },
     "execution_count": 82,
     "metadata": {},
     "output_type": "execute_result"
    }
   ],
   "source": [
    "np.vstack((x,y))   #纵向连接（vertical）"
   ]
  },
  {
   "cell_type": "code",
   "execution_count": 201,
   "id": "2c429bfd",
   "metadata": {},
   "outputs": [
    {
     "data": {
      "text/plain": [
       "array([[ 0,  1,  2, 50, 51, 52],\n",
       "       [10, 11, 12, 60, 61, 62]])"
      ]
     },
     "execution_count": 201,
     "metadata": {},
     "output_type": "execute_result"
    }
   ],
   "source": [
    "np.hstack((x,y))  #横向连接(horizontal)"
   ]
  },
  {
   "cell_type": "code",
   "execution_count": 202,
   "id": "6bfbbb1b",
   "metadata": {},
   "outputs": [
    {
     "data": {
      "text/plain": [
       "array([[[ 0, 50],\n",
       "        [ 1, 51],\n",
       "        [ 2, 52]],\n",
       "\n",
       "       [[10, 60],\n",
       "        [11, 61],\n",
       "        [12, 62]]])"
      ]
     },
     "execution_count": 202,
     "metadata": {},
     "output_type": "execute_result"
    }
   ],
   "source": [
    "np.dstack((x,y))  #三维数组(deep)"
   ]
  },
  {
   "cell_type": "markdown",
   "id": "4a8240a3",
   "metadata": {},
   "source": [
    "#### 展平"
   ]
  },
  {
   "cell_type": "code",
   "execution_count": 97,
   "id": "0d48c259",
   "metadata": {},
   "outputs": [
    {
     "data": {
      "text/plain": [
       "array([1, 2, 3, 4, 5, 6])"
      ]
     },
     "execution_count": 97,
     "metadata": {},
     "output_type": "execute_result"
    }
   ],
   "source": [
    "a = np.array([[1, 2, 3],[4, 5, 6]])\n",
    "a.flatten()    # 展平 a原本的值不变 深拷贝"
   ]
  },
  {
   "cell_type": "code",
   "execution_count": 98,
   "id": "06883924",
   "metadata": {},
   "outputs": [
    {
     "data": {
      "text/plain": [
       "array([[1, 2, 3],\n",
       "       [4, 5, 6]])"
      ]
     },
     "execution_count": 98,
     "metadata": {},
     "output_type": "execute_result"
    }
   ],
   "source": [
    "a  "
   ]
  },
  {
   "cell_type": "code",
   "execution_count": 101,
   "id": "8db5f1c4",
   "metadata": {},
   "outputs": [
    {
     "data": {
      "text/plain": [
       "array([1, 2, 3, 4, 5, 6])"
      ]
     },
     "execution_count": 101,
     "metadata": {},
     "output_type": "execute_result"
    }
   ],
   "source": [
    "a.ravel()   #也可以展平 a原本的值也不变 浅拷贝"
   ]
  },
  {
   "cell_type": "code",
   "execution_count": 118,
   "id": "522f290a",
   "metadata": {},
   "outputs": [
    {
     "data": {
      "text/plain": [
       "array([ 0.        ,  0.20408163,  0.40816327,  0.6122449 ,  0.81632653,\n",
       "        1.02040816,  1.2244898 ,  1.42857143,  1.63265306,  1.83673469,\n",
       "        2.04081633,  2.24489796,  2.44897959,  2.65306122,  2.85714286,\n",
       "        3.06122449,  3.26530612,  3.46938776,  3.67346939,  3.87755102,\n",
       "        4.08163265,  4.28571429,  4.48979592,  4.69387755,  4.89795918,\n",
       "        5.10204082,  5.30612245,  5.51020408,  5.71428571,  5.91836735,\n",
       "        6.12244898,  6.32653061,  6.53061224,  6.73469388,  6.93877551,\n",
       "        7.14285714,  7.34693878,  7.55102041,  7.75510204,  7.95918367,\n",
       "        8.16326531,  8.36734694,  8.57142857,  8.7755102 ,  8.97959184,\n",
       "        9.18367347,  9.3877551 ,  9.59183673,  9.79591837, 10.        ])"
      ]
     },
     "execution_count": 118,
     "metadata": {},
     "output_type": "execute_result"
    }
   ],
   "source": [
    "np.linspace(0, 10, 50)  # 构造出0-10（包含10）之间 间距相等的50个数 \n"
   ]
  },
  {
   "cell_type": "code",
   "execution_count": 119,
   "id": "01c96454",
   "metadata": {},
   "outputs": [
    {
     "data": {
      "text/plain": [
       "array([0.  , 0.25, 0.5 , 0.75, 1.  ])"
      ]
     },
     "execution_count": 119,
     "metadata": {},
     "output_type": "execute_result"
    }
   ],
   "source": [
    "np.linspace(0, 1, 5)"
   ]
  },
  {
   "cell_type": "code",
   "execution_count": 117,
   "id": "f4b3bea0",
   "metadata": {},
   "outputs": [
    {
     "data": {
      "text/plain": [
       "array([ 1.        ,  1.77827941,  3.16227766,  5.62341325, 10.        ])"
      ]
     },
     "execution_count": 117,
     "metadata": {},
     "output_type": "execute_result"
    }
   ],
   "source": [
    "np.logspace(0, 1, 5)  # 0-1默认以10为底的间距相等的5个数 比如log(1.77827941) = 0.25"
   ]
  },
  {
   "cell_type": "markdown",
   "id": "7d65fcba",
   "metadata": {},
   "source": [
    "#### 构造行向量"
   ]
  },
  {
   "cell_type": "code",
   "execution_count": 129,
   "id": "d3c0e722",
   "metadata": {},
   "outputs": [
    {
     "data": {
      "text/plain": [
       "array([[0],\n",
       "       [1],\n",
       "       [2],\n",
       "       [3],\n",
       "       [4],\n",
       "       [5],\n",
       "       [6],\n",
       "       [7],\n",
       "       [8],\n",
       "       [9]])"
      ]
     },
     "execution_count": 129,
     "metadata": {},
     "output_type": "execute_result"
    }
   ],
   "source": [
    "np.r_[0:10]\n",
    "a=np.array([0, 1, 2, 3, 4, 5, 6, 7, 8, 9])\n",
    "a.shape=len(a),1\n",
    "a"
   ]
  },
  {
   "cell_type": "markdown",
   "id": "2847b9b2",
   "metadata": {},
   "source": [
    "#### 构造列向量"
   ]
  },
  {
   "cell_type": "code",
   "execution_count": 121,
   "id": "3548d00c",
   "metadata": {},
   "outputs": [
    {
     "data": {
      "text/plain": [
       "array([[0],\n",
       "       [1],\n",
       "       [2],\n",
       "       [3],\n",
       "       [4],\n",
       "       [5],\n",
       "       [6],\n",
       "       [7],\n",
       "       [8],\n",
       "       [9]])"
      ]
     },
     "execution_count": 121,
     "metadata": {},
     "output_type": "execute_result"
    }
   ],
   "source": [
    "np.c_[0:10]"
   ]
  },
  {
   "cell_type": "markdown",
   "id": "1d22b6d9",
   "metadata": {},
   "source": [
    "## 随机数"
   ]
  },
  {
   "cell_type": "markdown",
   "id": "2f8e28f1",
   "metadata": {},
   "source": [
    "#### 打乱顺序函数"
   ]
  },
  {
   "cell_type": "code",
   "execution_count": 25,
   "id": "53b6e64c",
   "metadata": {},
   "outputs": [
    {
     "data": {
      "text/plain": [
       "array([7, 3, 6, 4, 9, 2, 1, 8, 5])"
      ]
     },
     "execution_count": 25,
     "metadata": {},
     "output_type": "execute_result"
    }
   ],
   "source": [
    "import numpy as np\n",
    "arr=np.array([1,2,3,4,5,6,7,8,9])\n",
    "np.random.shuffle(arr)\n",
    "arr"
   ]
  },
  {
   "cell_type": "markdown",
   "id": "3a9b2a16",
   "metadata": {},
   "source": [
    "#### 随机产生浮点数"
   ]
  },
  {
   "cell_type": "code",
   "execution_count": 178,
   "id": "c84eed27",
   "metadata": {},
   "outputs": [
    {
     "data": {
      "text/plain": [
       "array([[0.50421785, 0.79179541, 0.26969086],\n",
       "       [0.99192454, 0.95991887, 0.88732328]])"
      ]
     },
     "execution_count": 178,
     "metadata": {},
     "output_type": "execute_result"
    }
   ],
   "source": [
    "np.random.rand(2,3)  #创建2*3随机数组 取值是在[0,1)之间均匀分布的浮点数"
   ]
  },
  {
   "cell_type": "code",
   "execution_count": 35,
   "id": "6d43d4d3",
   "metadata": {},
   "outputs": [
    {
     "data": {
      "text/plain": [
       "0.864147433745384"
      ]
     },
     "execution_count": 35,
     "metadata": {},
     "output_type": "execute_result"
    }
   ],
   "source": [
    "np.random.rand() #参数为空 随机产生一个数字"
   ]
  },
  {
   "cell_type": "code",
   "execution_count": 25,
   "id": "d64d0830",
   "metadata": {},
   "outputs": [
    {
     "data": {
      "text/plain": [
       "array([[2.36314295, 2.76231586, 1.399053  ],\n",
       "       [3.27552834, 1.63593664, 1.1812744 ]])"
      ]
     },
     "execution_count": 25,
     "metadata": {},
     "output_type": "execute_result"
    }
   ],
   "source": [
    "np.random.uniform(1,5,(2,3))  #创建2*3随机数组 取值是在[1,5)之间均匀分布的浮点数"
   ]
  },
  {
   "cell_type": "markdown",
   "id": "04f4be8a",
   "metadata": {},
   "source": [
    "#### 随机产生整数"
   ]
  },
  {
   "cell_type": "code",
   "execution_count": 77,
   "id": "cc909b39",
   "metadata": {},
   "outputs": [
    {
     "data": {
      "text/plain": [
       "array([[4, 4, 3],\n",
       "       [4, 2, 2]])"
      ]
     },
     "execution_count": 77,
     "metadata": {},
     "output_type": "execute_result"
    }
   ],
   "source": [
    "np.random.randint(1,5,(2,3))  #创建2*3随机数组 取值是在[1,5)之间均匀分布的整数"
   ]
  },
  {
   "cell_type": "code",
   "execution_count": 188,
   "id": "2f54b6a2",
   "metadata": {},
   "outputs": [
    {
     "data": {
      "text/plain": [
       "array([2, 4, 2, 2, 3, 2, 3, 3, 2, 2])"
      ]
     },
     "execution_count": 188,
     "metadata": {},
     "output_type": "execute_result"
    }
   ],
   "source": [
    "np.random.randint(1,5,10)"
   ]
  },
  {
   "cell_type": "markdown",
   "id": "14dc86f1",
   "metadata": {},
   "source": [
    "#### 随机种子"
   ]
  },
  {
   "cell_type": "code",
   "execution_count": 225,
   "id": "f20c2523",
   "metadata": {},
   "outputs": [],
   "source": [
    "np.random.seed(0)"
   ]
  },
  {
   "cell_type": "code",
   "execution_count": 226,
   "id": "ef54d6c5",
   "metadata": {},
   "outputs": [
    {
     "data": {
      "text/plain": [
       "array([1, 4, 2, 1, 4, 4, 4, 4, 2, 4])"
      ]
     },
     "execution_count": 226,
     "metadata": {},
     "output_type": "execute_result"
    }
   ],
   "source": [
    "np.random.randint(1,5,10)"
   ]
  },
  {
   "cell_type": "code",
   "execution_count": 228,
   "id": "0acc85c8",
   "metadata": {},
   "outputs": [],
   "source": [
    "np.random.seed(0)   # 相同的随机种子产生的值一样"
   ]
  },
  {
   "cell_type": "code",
   "execution_count": 229,
   "id": "5c461717",
   "metadata": {},
   "outputs": [
    {
     "data": {
      "text/plain": [
       "array([1, 4, 2, 1, 4, 4, 4, 4, 2, 4])"
      ]
     },
     "execution_count": 229,
     "metadata": {},
     "output_type": "execute_result"
    }
   ],
   "source": [
    "np.random.randint(1,5,10)"
   ]
  },
  {
   "cell_type": "markdown",
   "id": "d615406e",
   "metadata": {},
   "source": [
    "#### 标准正态分布"
   ]
  },
  {
   "cell_type": "code",
   "execution_count": 190,
   "id": "0ff397d7",
   "metadata": {},
   "outputs": [
    {
     "data": {
      "text/plain": [
       "array([[-1.47081496,  0.8342687 ,  0.49466221],\n",
       "       [-0.49463653,  0.54441417, -0.27916815]])"
      ]
     },
     "execution_count": 190,
     "metadata": {},
     "output_type": "execute_result"
    }
   ],
   "source": [
    "np.random.randn(2,3) #创建2*3随机数组 符合标准正态分布"
   ]
  },
  {
   "cell_type": "code",
   "execution_count": 193,
   "id": "5f5c8f2f",
   "metadata": {},
   "outputs": [],
   "source": [
    "np.set_printoptions(precision=3)  # 精确到小数点后三位"
   ]
  },
  {
   "cell_type": "markdown",
   "id": "85415058",
   "metadata": {},
   "source": [
    "#### 正态分布"
   ]
  },
  {
   "cell_type": "code",
   "execution_count": 315,
   "id": "0df2bb32",
   "metadata": {},
   "outputs": [
    {
     "data": {
      "text/plain": [
       "array([[-0.307, -0.367,  1.12 ],\n",
       "       [-0.458,  0.425, -0.028]])"
      ]
     },
     "execution_count": 315,
     "metadata": {},
     "output_type": "execute_result"
    }
   ],
   "source": [
    "np.random.normal(0,1,(2,3)) #创建2*3随机数组 符合正态分布 均值为0 标准差为1"
   ]
  },
  {
   "cell_type": "markdown",
   "id": "6e4533cb",
   "metadata": {},
   "source": [
    "### 读写文件"
   ]
  },
  {
   "cell_type": "code",
   "execution_count": 234,
   "id": "50fcb984",
   "metadata": {},
   "outputs": [
    {
     "data": {
      "text/plain": [
       "array([1111., 1111., 1111., 1111., 1111.])"
      ]
     },
     "execution_count": 234,
     "metadata": {},
     "output_type": "execute_result"
    }
   ],
   "source": [
    "data = np.loadtxt('C:/Users/pc/Desktop/新建文本文档.txt')\n",
    "data"
   ]
  },
  {
   "cell_type": "code",
   "execution_count": null,
   "id": "bf166828",
   "metadata": {},
   "outputs": [],
   "source": [
    "data = np.loadtxt('C:/Users/pc/Desktop/新建文本文档.txt'，delimter = ',',skiprows = 1)  #分隔符 去掉几行\n",
    "# usecols=（0,1） 指定使用哪几列"
   ]
  },
  {
   "cell_type": "code",
   "execution_count": 307,
   "id": "6cff0512",
   "metadata": {},
   "outputs": [
    {
     "data": {
      "text/plain": [
       "array([[ 0,  1,  2,  3,  4,  5,  6,  7,  8,  9],\n",
       "       [10, 11, 12, 13, 14, 15, 16, 17, 18, 19],\n",
       "       [20, 21, 22, 23, 24, 25, 26, 27, 28, 29],\n",
       "       [30, 31, 32, 33, 34, 35, 36, 37, 38, 39],\n",
       "       [40, 41, 42, 43, 44, 45, 46, 47, 48, 49],\n",
       "       [50, 51, 52, 53, 54, 55, 56, 57, 58, 59],\n",
       "       [60, 61, 62, 63, 64, 65, 66, 67, 68, 69],\n",
       "       [70, 71, 72, 73, 74, 75, 76, 77, 78, 79],\n",
       "       [80, 81, 82, 83, 84, 85, 86, 87, 88, 89],\n",
       "       [90, 91, 92, 93, 94, 95, 96, 97, 98, 99]])"
      ]
     },
     "execution_count": 307,
     "metadata": {},
     "output_type": "execute_result"
    }
   ],
   "source": [
    "import sys\n",
    "np.set_printoptions(threshold=sys.maxsize)\n",
    "x =np.arange(100).reshape(10,10)\n",
    "x"
   ]
  },
  {
   "cell_type": "code",
   "execution_count": 284,
   "id": "538f7a67",
   "metadata": {},
   "outputs": [
    {
     "data": {
      "text/plain": [
       "array([[ 0,  5,  2,  3,  4],\n",
       "       [ 5,  6,  7,  8,  9],\n",
       "       [10, 11, 12, 13, 14],\n",
       "       [15, 16, 17, 18, 19],\n",
       "       [20, 21, 22, 23, 24]])"
      ]
     },
     "execution_count": 284,
     "metadata": {},
     "output_type": "execute_result"
    }
   ],
   "source": [
    "\n",
    "\n"
   ]
  }
 ],
 "metadata": {
  "kernelspec": {
   "display_name": "Python 3",
   "language": "python",
   "name": "python3"
  },
  "language_info": {
   "codemirror_mode": {
    "name": "ipython",
    "version": 3
   },
   "file_extension": ".py",
   "mimetype": "text/x-python",
   "name": "python",
   "nbconvert_exporter": "python",
   "pygments_lexer": "ipython3",
   "version": "3.8.8"
  }
 },
 "nbformat": 4,
 "nbformat_minor": 5
}
