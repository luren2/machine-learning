{
 "cells": [
  {
   "cell_type": "code",
   "execution_count": 1,
   "id": "50807391",
   "metadata": {},
   "outputs": [
    {
     "name": "stderr",
     "output_type": "stream",
     "text": [
      "\r",
      "  0%|                                                                                           | 0/50 [00:00<?, ?it/s]"
     ]
    },
    {
     "name": "stdout",
     "output_type": "stream",
     "text": [
      "['airplane_023.jpg', 'airplane_121.jpg', 'airplane_435.jpg', 'airplane_504.jpg', 'airplane_574.jpg', 'airplane_580.jpg', 'airplane_584.jpg', 'airplane_625.jpg', 'airplane_661.jpg', 'airplane_693.jpg', 'bridge_027.jpg', 'bridge_124.jpg', 'bridge_143.jpg', 'bridge_167.jpg', 'bridge_364.jpg', 'bridge_478.jpg', 'bridge_542.jpg', 'bridge_588.jpg', 'bridge_647.jpg', 'bridge_666.jpg', 'palace_078.jpg', 'palace_137.jpg', 'palace_159.jpg', 'palace_175.jpg', 'palace_182.jpg', 'palace_596.jpg', 'palace_606.jpg', 'palace_649.jpg', 'palace_660.jpg', 'palace_696.jpg', 'ship_105.jpg', 'ship_256.jpg', 'ship_257.jpg', 'ship_349.jpg', 'ship_467.jpg', 'ship_525.jpg', 'ship_637.jpg', 'ship_645.jpg', 'ship_665.jpg', 'ship_673.jpg', 'stadium_079.jpg', 'stadium_093.jpg', 'stadium_151.jpg', 'stadium_179.jpg', 'stadium_225.jpg', 'stadium_305.jpg', 'stadium_549.jpg', 'stadium_558.jpg', 'stadium_665.jpg', 'stadium_687.jpg']\n"
     ]
    },
    {
     "name": "stderr",
     "output_type": "stream",
     "text": [
      "100%|██████████████████████████████████████████████████████████████████████████████████| 50/50 [00:05<00:00,  8.76it/s]\n"
     ]
    }
   ],
   "source": [
    "import tensorflow as tf\n",
    "\n",
    "import cv2\n",
    "import os\n",
    "import numpy as np\n",
    "import pandas as pd\n",
    "\n",
    "import matplotlib.pyplot as plt\n",
    "from PIL import Image\n",
    "from tqdm import tqdm\n",
    "\n",
    "model = tf.keras.models.load_model('h5/sat4.h5')\n",
    "\n",
    "label = ['airplane','bridge','palace','ship','stadium']\n",
    "result_dict = dict()\n",
    "dir_origin_path = 'preImg'\n",
    "airplane_path = open('afterImg/airplane.txt','w')\n",
    "bridge_path = open('afterImg/bridge.txt','w')\n",
    "palace_path = open('afterImg/palace.txt','w')\n",
    "ship_path = open('afterImg/ship.txt','w')\n",
    "stadium_path = open('afterImg/stadium.txt','w')\n",
    "img_names = os.listdir(dir_origin_path)\n",
    "print(img_names)\n",
    "for img_name in tqdm(img_names):\n",
    "    if img_name.lower().endswith(('.png', '.jpg')):\n",
    "        #图片预处理\n",
    "        image_path = os.path.join(dir_origin_path, img_name)\n",
    "        image = cv2.imread(image_path)\n",
    "        image = cv2.resize(image, (224, 224))\n",
    "        image = image.reshape(1, 224, 224, 3)\n",
    "        image = image / 255\n",
    "        \n",
    "        #预测图片\n",
    "        predict = model.predict(image)\n",
    "        #预测结果取最大值\n",
    "        predict_result = label[np.argmax(predict)]\n",
    "        if predict_result == 'airplane':\n",
    "            airplane_path.write(img_name +' is: ' + predict_result)\n",
    "            airplane_path.write('\\n')\n",
    "        elif predict_result == 'bridge':\n",
    "            bridge_path.write(img_name + ' is: ' + predict_result)\n",
    "            bridge_path.write('\\n')\n",
    "        elif predict_result == 'palace':\n",
    "            palace_path.write(img_name + ' is: ' + predict_result)\n",
    "            palace_path.write('\\n')\n",
    "        elif predict_result == 'ship':\n",
    "            ship_path.write(img_name + ' is: ' + predict_result)\n",
    "            ship_path.write('\\n')\n",
    "        elif predict_result == 'stadium':\n",
    "            stadium_path.write(img_name + ' is: ' + predict_result)\n",
    "            stadium_path.write('\\n')\n",
    "        else:\n",
    "            print('error')\n",
    "airplane_path.close()\n",
    "bridge_path.close()\n",
    "palace_path.close()\n",
    "ship_path.close()\n",
    "stadium_path.close()\n"
   ]
  },
  {
   "cell_type": "code",
   "execution_count": null,
   "id": "e6c698b7",
   "metadata": {},
   "outputs": [],
   "source": []
  },
  {
   "cell_type": "code",
   "execution_count": null,
   "id": "77e2f30c",
   "metadata": {},
   "outputs": [],
   "source": []
  }
 ],
 "metadata": {
  "kernelspec": {
   "display_name": "Python 3 (ipykernel)",
   "language": "python",
   "name": "python3"
  },
  "language_info": {
   "codemirror_mode": {
    "name": "ipython",
    "version": 3
   },
   "file_extension": ".py",
   "mimetype": "text/x-python",
   "name": "python",
   "nbconvert_exporter": "python",
   "pygments_lexer": "ipython3",
   "version": "3.8.0"
  }
 },
 "nbformat": 4,
 "nbformat_minor": 5
}
