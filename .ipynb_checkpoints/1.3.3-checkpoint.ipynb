{
 "cells": [
  {
   "cell_type": "code",
   "execution_count": 2,
   "metadata": {},
   "outputs": [],
   "source": [
    "import tensorflow as tf\n",
    "from tensorflow.keras.preprocessing.image import ImageDataGenerator\n",
    "\n",
    "import numpy as np\n",
    "import pandas as pd\n",
    "\n",
    "import matplotlib.pyplot as plt"
   ]
  },
  {
   "cell_type": "code",
   "execution_count": 3,
   "metadata": {},
   "outputs": [],
   "source": [
    "gpus = tf.config.list_physical_devices(device_type='GPU')\n",
    "for gpu in gpus:\n",
    "    tf.config.experimental.set_memory_growth(device=gpu, enable=True)   \n",
    "#GPU内存管理"
   ]
  },
  {
   "cell_type": "code",
   "execution_count": 4,
   "metadata": {},
   "outputs": [],
   "source": [
    "train_dir = 'SAT/train'\n",
    "test_dir = 'SAT/val'\n",
    "\n",
    "im_size = 224\n",
    "batch_size = 32"
   ]
  },
  {
   "cell_type": "code",
   "execution_count": 5,
   "metadata": {},
   "outputs": [],
   "source": [
    "train_images = ImageDataGenerator(rescale = 1/255,horizontal_flip=True)\n",
    "test_images = ImageDataGenerator(rescale = 1/255)\n",
    "#归一化"
   ]
  },
  {
   "cell_type": "code",
   "execution_count": 6,
   "metadata": {
    "scrolled": true
   },
   "outputs": [
    {
     "name": "stdout",
     "output_type": "stream",
     "text": [
      "Found 3150 images belonging to 5 classes.\n"
     ]
    }
   ],
   "source": [
    "train_gen = train_images.flow_from_directory(directory=train_dir,\n",
    "                                             batch_size=batch_size,\n",
    "                                             shuffle=True,\n",
    "                                             target_size=(im_size, im_size),\n",
    "                                             class_mode='categorical')\n",
    "#按路径载入图片，批处理大小，随机，尺寸，读热编码"
   ]
  },
  {
   "cell_type": "code",
   "execution_count": 7,
   "metadata": {},
   "outputs": [
    {
     "name": "stdout",
     "output_type": "stream",
     "text": [
      "Found 350 images belonging to 5 classes.\n"
     ]
    }
   ],
   "source": [
    "val_gen = test_images.flow_from_directory(directory=test_dir,\n",
    "                                          batch_size=batch_size,\n",
    "                                          shuffle=False,\n",
    "                                          target_size=(im_size, im_size),\n",
    "                                          class_mode='categorical')\n",
    "#按路径载入图片，批处理大小，随机，尺寸，读热编码"
   ]
  },
  {
   "cell_type": "code",
   "execution_count": 8,
   "metadata": {},
   "outputs": [],
   "source": [
    "classes = train_gen.class_indices\n",
    "#类别查看"
   ]
  },
  {
   "cell_type": "code",
   "execution_count": 9,
   "metadata": {},
   "outputs": [
    {
     "data": {
      "text/plain": [
       "{'airplane': 0, 'bridge': 1, 'palace': 2, 'ship': 3, 'stadium': 4}"
      ]
     },
     "execution_count": 9,
     "metadata": {},
     "output_type": "execute_result"
    }
   ],
   "source": [
    "classes"
   ]
  },
  {
   "cell_type": "code",
   "execution_count": 10,
   "metadata": {},
   "outputs": [
    {
     "name": "stdout",
     "output_type": "stream",
     "text": [
      "Downloading data from https://storage.googleapis.com/tensorflow/keras-applications/vgg16/vgg16_weights_tf_dim_ordering_tf_kernels_notop.h5\n",
      "58892288/58889256 [==============================] - 21s 0us/step\n",
      "58900480/58889256 [==============================] - 21s 0us/step\n"
     ]
    }
   ],
   "source": [
    "vgg = tf.keras.applications.VGG16(include_top=False, weights='imagenet',input_shape=(224, 224, 3))\n",
    "vgg.trainable = False\n",
    "#迁移学习 include_top=False去掉全连接层 weights='imagenet'加载权重 输入尺寸\n",
    "#载入Vgg16的模型，vgg.trainable = False冻结所有的卷积层，手动加上自己需要的全连接层，只训练这部分神经网络"
   ]
  },
  {
   "cell_type": "code",
   "execution_count": 13,
   "metadata": {},
   "outputs": [],
   "source": [
    "model = tf.keras.Sequential()\n",
    "#VGG-11/16"
   ]
  },
  {
   "cell_type": "code",
   "execution_count": 14,
   "metadata": {},
   "outputs": [],
   "source": [
    "model.add(vgg)  #加载Vgg16(去掉全连接层的)\n",
    "model.add(tf.keras.layers.Flatten())\n",
    "model.add(tf.keras.layers.Dropout(0.5))\n",
    "model.add(tf.keras.layers.Dense(1024, activation='relu'))\n",
    "model.add(tf.keras.layers.Dropout(0.5))\n",
    "model.add(tf.keras.layers.Dense(1024, activation='relu'))\n",
    "model.add(tf.keras.layers.Dense(5, activation='softmax'))"
   ]
  },
  {
   "cell_type": "code",
   "execution_count": 15,
   "metadata": {},
   "outputs": [
    {
     "name": "stdout",
     "output_type": "stream",
     "text": [
      "Model: \"sequential_1\"\n",
      "_________________________________________________________________\n",
      " Layer (type)                Output Shape              Param #   \n",
      "=================================================================\n",
      " vgg16 (Functional)          (None, 7, 7, 512)         14714688  \n",
      "                                                                 \n",
      " flatten_1 (Flatten)         (None, 25088)             0         \n",
      "                                                                 \n",
      " dropout_2 (Dropout)         (None, 25088)             0         \n",
      "                                                                 \n",
      " dense_3 (Dense)             (None, 1024)              25691136  \n",
      "                                                                 \n",
      " dropout_3 (Dropout)         (None, 1024)              0         \n",
      "                                                                 \n",
      " dense_4 (Dense)             (None, 1024)              1049600   \n",
      "                                                                 \n",
      " dense_5 (Dense)             (None, 5)                 5125      \n",
      "                                                                 \n",
      "=================================================================\n",
      "Total params: 41,460,549\n",
      "Trainable params: 26,745,861\n",
      "Non-trainable params: 14,714,688\n",
      "_________________________________________________________________\n"
     ]
    }
   ],
   "source": [
    "model.summary()"
   ]
  },
  {
   "cell_type": "code",
   "execution_count": 16,
   "metadata": {},
   "outputs": [],
   "source": [
    "model.compile(optimizer=tf.keras.optimizers.Adam(learning_rate=0.0005),\n",
    "              loss='categorical_crossentropy',\n",
    "              metrics=['acc'])\n",
    "#学习率设置"
   ]
  },
  {
   "cell_type": "code",
   "execution_count": 17,
   "metadata": {},
   "outputs": [
    {
     "name": "stdout",
     "output_type": "stream",
     "text": [
      "Epoch 1/10\n",
      "99/99 [==============================] - 269s 3s/step - loss: 1.0191 - acc: 0.6651 - val_loss: 0.3661 - val_acc: 0.8686\n",
      "Epoch 2/10\n",
      "99/99 [==============================] - 268s 3s/step - loss: 0.4296 - acc: 0.8454 - val_loss: 0.4190 - val_acc: 0.8600\n",
      "Epoch 3/10\n",
      "99/99 [==============================] - 271s 3s/step - loss: 0.3634 - acc: 0.8717 - val_loss: 0.2834 - val_acc: 0.9000\n",
      "Epoch 4/10\n",
      "99/99 [==============================] - 279s 3s/step - loss: 0.3276 - acc: 0.8825 - val_loss: 0.2633 - val_acc: 0.9114\n",
      "Epoch 5/10\n",
      "99/99 [==============================] - 273s 3s/step - loss: 0.2819 - acc: 0.8943 - val_loss: 0.2474 - val_acc: 0.9086\n",
      "Epoch 6/10\n",
      "99/99 [==============================] - 269s 3s/step - loss: 0.2701 - acc: 0.9003 - val_loss: 0.2136 - val_acc: 0.9314\n",
      "Epoch 7/10\n",
      "99/99 [==============================] - 279s 3s/step - loss: 0.2542 - acc: 0.9146 - val_loss: 0.2869 - val_acc: 0.8743\n",
      "Epoch 8/10\n",
      "99/99 [==============================] - 281s 3s/step - loss: 0.2004 - acc: 0.9295 - val_loss: 0.2432 - val_acc: 0.9257\n",
      "Epoch 9/10\n",
      "99/99 [==============================] - 273s 3s/step - loss: 0.2037 - acc: 0.9251 - val_loss: 0.2742 - val_acc: 0.9086\n",
      "Epoch 10/10\n",
      "99/99 [==============================] - 268s 3s/step - loss: 0.1877 - acc: 0.9305 - val_loss: 0.2519 - val_acc: 0.9200\n"
     ]
    }
   ],
   "source": [
    "history = model.fit(train_gen,epochs=10,validation_data=val_gen)"
   ]
  },
  {
   "cell_type": "code",
   "execution_count": 18,
   "metadata": {},
   "outputs": [
    {
     "data": {
      "text/plain": [
       "[<matplotlib.lines.Line2D at 0x20081418730>]"
      ]
     },
     "execution_count": 18,
     "metadata": {},
     "output_type": "execute_result"
    },
    {
     "data": {
      "image/png": "[encoded data removed]",
      "text/plain": [
       "<Figure size 432x288 with 1 Axes>"
      ]
     },
     "metadata": {
      "needs_background": "light"
     },
     "output_type": "display_data"
    }
   ],
   "source": [
    "plt.plot(history.epoch,history.history.get('acc'))\n",
    "plt.plot(history.epoch,history.history.get('val_acc'))"
   ]
  },
  {
   "cell_type": "code",
   "execution_count": 19,
   "metadata": {},
   "outputs": [
    {
     "name": "stdout",
     "output_type": "stream",
     "text": [
      "11/11 [==============================] - 25s 2s/step - loss: 0.2519 - acc: 0.9200\n"
     ]
    },
    {
     "data": {
      "text/plain": [
       "[0.25194957852363586, 0.9200000166893005]"
      ]
     },
     "execution_count": 19,
     "metadata": {},
     "output_type": "execute_result"
    }
   ],
   "source": [
    "model.evaluate(val_gen)"
   ]
  },
  {
   "cell_type": "code",
   "execution_count": 20,
   "metadata": {},
   "outputs": [],
   "source": [
    "# 保存模型\n",
    "model.save('h5/sat4.h5')"
   ]
  },
  {
   "cell_type": "code",
   "execution_count": null,
   "metadata": {},
   "outputs": [],
   "source": []
  }
 ],
 "metadata": {
  "kernelspec": {
   "display_name": "Python 3 (ipykernel)",
   "language": "python",
   "name": "python3"
  },
  "language_info": {
   "codemirror_mode": {
    "name": "ipython",
    "version": 3
   },
   "file_extension": ".py",
   "mimetype": "text/x-python",
   "name": "python",
   "nbconvert_exporter": "python",
   "pygments_lexer": "ipython3",
   "version": "3.8.0"
  }
 },
 "nbformat": 4,
 "nbformat_minor": 4
}
