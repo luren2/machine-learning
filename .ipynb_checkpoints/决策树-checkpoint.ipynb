{
 "cells": [
  {
   "cell_type": "code",
   "execution_count": 12,
   "id": "72812966",
   "metadata": {},
   "outputs": [],
   "source": [
    "import numpy as np\n",
    "import pandas as pd\n",
    "import matplotlib.pyplot as plt"
   ]
  },
  {
   "cell_type": "markdown",
   "id": "c6311071",
   "metadata": {},
   "source": [
    "### 计算信息熵"
   ]
  },
  {
   "cell_type": "code",
   "execution_count": 60,
   "id": "22424113",
   "metadata": {},
   "outputs": [],
   "source": [
    "def calEnt(dataSet):\n",
    "    n = dataSet.shape[0]\n",
    "    iset = dataSet.iloc[:,-1].value_counts()\n",
    "    p = iset/n\n",
    "    ent = (-p*np.log2(p)).sum()\n",
    "    return ent"
   ]
  },
  {
   "cell_type": "markdown",
   "id": "24f21f83",
   "metadata": {},
   "source": [
    "### 创建数据"
   ]
  },
  {
   "cell_type": "code",
   "execution_count": 61,
   "id": "acaad24f",
   "metadata": {},
   "outputs": [],
   "source": [
    "def createDataSet():\n",
    "    row_data = {'no surfacing': [1, 1, 1, 0, 0],\n",
    "                'flippers': [1, 1, 0, 1, 1],\n",
    "                'fish':['yes', 'yes', 'no', 'no', 'no']}\n",
    "    dataSet=pd.DataFrame(row_data)\n",
    "    return dataSet"
   ]
  },
  {
   "cell_type": "code",
   "execution_count": 62,
   "id": "27888899",
   "metadata": {},
   "outputs": [
    {
     "data": {
      "text/html": [
       "<div>\n",
       "<style scoped>\n",
       "    .dataframe tbody tr th:only-of-type {\n",
       "        vertical-align: middle;\n",
       "    }\n",
       "\n",
       "    .dataframe tbody tr th {\n",
       "        vertical-align: top;\n",
       "    }\n",
       "\n",
       "    .dataframe thead th {\n",
       "        text-align: right;\n",
       "    }\n",
       "</style>\n",
       "<table border=\"1\" class=\"dataframe\">\n",
       "  <thead>\n",
       "    <tr style=\"text-align: right;\">\n",
       "      <th></th>\n",
       "      <th>no surfacing</th>\n",
       "      <th>flippers</th>\n",
       "      <th>fish</th>\n",
       "    </tr>\n",
       "  </thead>\n",
       "  <tbody>\n",
       "    <tr>\n",
       "      <th>0</th>\n",
       "      <td>1</td>\n",
       "      <td>1</td>\n",
       "      <td>yes</td>\n",
       "    </tr>\n",
       "    <tr>\n",
       "      <th>1</th>\n",
       "      <td>1</td>\n",
       "      <td>1</td>\n",
       "      <td>yes</td>\n",
       "    </tr>\n",
       "    <tr>\n",
       "      <th>2</th>\n",
       "      <td>1</td>\n",
       "      <td>0</td>\n",
       "      <td>no</td>\n",
       "    </tr>\n",
       "    <tr>\n",
       "      <th>3</th>\n",
       "      <td>0</td>\n",
       "      <td>1</td>\n",
       "      <td>no</td>\n",
       "    </tr>\n",
       "    <tr>\n",
       "      <th>4</th>\n",
       "      <td>0</td>\n",
       "      <td>1</td>\n",
       "      <td>no</td>\n",
       "    </tr>\n",
       "  </tbody>\n",
       "</table>\n",
       "</div>"
      ],
      "text/plain": [
       "   no surfacing  flippers fish\n",
       "0             1         1  yes\n",
       "1             1         1  yes\n",
       "2             1         0   no\n",
       "3             0         1   no\n",
       "4             0         1   no"
      ]
     },
     "execution_count": 62,
     "metadata": {},
     "output_type": "execute_result"
    }
   ],
   "source": [
    "dataSet= createDataSet()\n",
    "dataSet"
   ]
  },
  {
   "cell_type": "code",
   "execution_count": 63,
   "id": "dfc1808b",
   "metadata": {},
   "outputs": [
    {
     "data": {
      "text/plain": [
       "0.9709505944546686"
      ]
     },
     "execution_count": 63,
     "metadata": {},
     "output_type": "execute_result"
    }
   ],
   "source": [
    "calEnt(dataSet)"
   ]
  },
  {
   "cell_type": "markdown",
   "id": "f2e2399e",
   "metadata": {},
   "source": [
    "### 根据信息增益选择出最佳数据集切分的列"
   ]
  },
  {
   "cell_type": "code",
   "execution_count": 74,
   "id": "87324b82",
   "metadata": {},
   "outputs": [],
   "source": [
    "def bestSplit(dataSet):\n",
    "    baseEnt = calEnt(dataSet)  #计算原始熵\n",
    "    bestGain = 0               # 初始化信息增益\n",
    "    axis = -1                  #初始化最佳切分列，标签列\n",
    "    for i in range(dataSet.shape[1]-1):  #对特征的每一列进行循环\n",
    "        levels = dataSet.iloc[:,i].value_counts().index # 提取出当前列的所有取值\n",
    "        ents = 0                                      # 初始化子节点的信息熵                       \n",
    "        for j in levels:                             # 对当前列的的每一个取值进行循环\n",
    "            childSet = dataSet[dataSet.iloc[:,i] == j]  # 某一个子节点的dataFramje\n",
    "            ent = calEnt(childSet)                     # 计算某一个子节点的信息熵\n",
    "            ents += (childSet.shape[0] / dataSet.shape[0]) * ent # 计算当前列的信息熵\n",
    "        print(f'第{i}列的信息熵为{ents}')\n",
    "        infoGain = baseEnt - ents      #计算当前列的信息增益\n",
    "        print(f'第{i}列的信息增益为{infoGain}')\n",
    "        if (infoGain > bestGain):       #选择最大的信息增益\n",
    "            bestGain = infoGain        \n",
    "            axis = i                   #最大增益所在的列\n",
    "    return axis"
   ]
  },
  {
   "cell_type": "code",
   "execution_count": 75,
   "id": "582c6ebd",
   "metadata": {},
   "outputs": [
    {
     "name": "stdout",
     "output_type": "stream",
     "text": [
      "第0列的信息熵为0.5509775004326937\n",
      "第0列的信息增益为0.4199730940219749\n",
      "第1列的信息熵为0.8\n",
      "第1列的信息增益为0.17095059445466854\n"
     ]
    },
    {
     "data": {
      "text/plain": [
       "0"
      ]
     },
     "execution_count": 75,
     "metadata": {},
     "output_type": "execute_result"
    }
   ],
   "source": [
    "bestSplit(dataSet)"
   ]
  },
  {
   "cell_type": "markdown",
   "id": "6bf4ddcf",
   "metadata": {},
   "source": [
    "### 按照给定列切分数据集"
   ]
  },
  {
   "cell_type": "code",
   "execution_count": 76,
   "id": "7e057534",
   "metadata": {},
   "outputs": [],
   "source": [
    "def mySplit(dataSet, axis, value):\n",
    "    col = dataSet.columns[axis]\n",
    "    redataSet = dataSet.loc[dataSet[col] == value, :].drop(col, axis = 1) #把用过的删除\n",
    "    return redataSet"
   ]
  },
  {
   "cell_type": "markdown",
   "id": "aa053dd0",
   "metadata": {},
   "source": [
    "### 递归构建决策树"
   ]
  },
  {
   "cell_type": "code",
   "execution_count": 104,
   "id": "5baaa721",
   "metadata": {},
   "outputs": [],
   "source": [
    "def createTree(dataSet):\n",
    "    featlist = list(dataSet.columns) #获取所有列 放在list里\n",
    "    classlist = dataSet.iloc[:, -1].value_counts() #获取最后一列标签的统计\n",
    "    # 递归出口 当没有特征列可用或者所有标签都是一类 就结束\n",
    "    if classlist[0] == dataSet.shape[0] or dataSet.shape[1] == 1:\n",
    "        return classlist.index[0]              #返回类标签\n",
    "    axis = bestSplit(dataSet)                  #确定出当前最佳切分列的索引\n",
    "    bestfeat = featlist[axis]                  #获取该索引对应的特征\n",
    "    myTree = {bestfeat:{}}                     #采用字典嵌套的方式存储树信息\n",
    "    del featlist[axis]                         #删除当前特征\n",
    "    valuelist = set(dataSet.iloc[:, axis])     #提取最佳切分列所有属性值(set去重)\n",
    "    for value in valuelist:                    #对每一个属性值递归建树\n",
    "        myTree[bestfeat][value] = createTree(mySplit(dataSet, axis, value))\n",
    "    return myTree"
   ]
  },
  {
   "cell_type": "code",
   "execution_count": 105,
   "id": "3c724769",
   "metadata": {},
   "outputs": [
    {
     "name": "stdout",
     "output_type": "stream",
     "text": [
      "第0列的信息熵为0.5509775004326937\n",
      "第0列的信息增益为0.4199730940219749\n",
      "第1列的信息熵为0.8\n",
      "第1列的信息增益为0.17095059445466854\n",
      "第0列的信息熵为0.0\n",
      "第0列的信息增益为0.9182958340544896\n"
     ]
    },
    {
     "data": {
      "text/plain": [
       "{'no surfacing': {0: 'no', 1: {'flippers': {0: 'no', 1: 'yes'}}}}"
      ]
     },
     "execution_count": 105,
     "metadata": {},
     "output_type": "execute_result"
    }
   ],
   "source": [
    "myTree = createTree(dataSet)\n",
    "myTree"
   ]
  },
  {
   "cell_type": "code",
   "execution_count": null,
   "id": "bde5d677",
   "metadata": {},
   "outputs": [],
   "source": [
    "# np.save('myTree.npy', myTree)\n",
    "# read_myTree = np.load('myTree.npy').item()\n",
    "# read_myTree"
   ]
  }
 ],
 "metadata": {
  "kernelspec": {
   "display_name": "Python 3",
   "language": "python",
   "name": "python3"
  },
  "language_info": {
   "codemirror_mode": {
    "name": "ipython",
    "version": 3
   },
   "file_extension": ".py",
   "mimetype": "text/x-python",
   "name": "python",
   "nbconvert_exporter": "python",
   "pygments_lexer": "ipython3",
   "version": "3.8.8"
  }
 },
 "nbformat": 4,
 "nbformat_minor": 5
}
