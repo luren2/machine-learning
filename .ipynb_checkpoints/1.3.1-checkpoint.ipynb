{
 "cells": [
  {
   "cell_type": "code",
   "execution_count": 1,
   "metadata": {},
   "outputs": [],
   "source": [
    "import tensorflow as tf\n",
    "from tensorflow.keras.preprocessing.image import ImageDataGenerator\n",
    "\n",
    "import numpy as np\n",
    "import pandas as pd\n",
    "\n",
    "import matplotlib.pyplot as plt"
   ]
  },
  {
   "cell_type": "code",
   "execution_count": 2,
   "metadata": {},
   "outputs": [],
   "source": [
    "gpus = tf.config.list_physical_devices(device_type='GPU')\n",
    "for gpu in gpus:\n",
    "    tf.config.experimental.set_memory_growth(device=gpu, enable=True)   \n",
    "#GPU内存管理"
   ]
  },
  {
   "cell_type": "code",
   "execution_count": 3,
   "metadata": {},
   "outputs": [],
   "source": [
    "train_dir = 'SAT/train'\n",
    "test_dir = 'SAT/val'\n",
    "\n",
    "im_size = 224\n",
    "batch_size = 32"
   ]
  },
  {
   "cell_type": "code",
   "execution_count": 4,
   "metadata": {},
   "outputs": [],
   "source": [
    "train_images = ImageDataGenerator(rescale = 1/255,horizontal_flip=True)\n",
    "test_images = ImageDataGenerator(rescale = 1/255)\n",
    "#归一化"
   ]
  },
  {
   "cell_type": "code",
   "execution_count": 5,
   "metadata": {
    "scrolled": true
   },
   "outputs": [
    {
     "name": "stdout",
     "output_type": "stream",
     "text": [
      "Found 3150 images belonging to 5 classes.\n"
     ]
    }
   ],
   "source": [
    "train_gen = train_images.flow_from_directory(directory=train_dir,\n",
    "                                             batch_size=batch_size,\n",
    "                                             shuffle=True,\n",
    "                                             target_size=(im_size, im_size),\n",
    "                                             class_mode='categorical')\n",
    "#按路径载入图片，批处理大小，随机，尺寸，读热编码"
   ]
  },
  {
   "cell_type": "code",
   "execution_count": 6,
   "metadata": {},
   "outputs": [
    {
     "name": "stdout",
     "output_type": "stream",
     "text": [
      "Found 350 images belonging to 5 classes.\n"
     ]
    }
   ],
   "source": [
    "val_gen = test_images.flow_from_directory(directory=test_dir,\n",
    "                                          batch_size=batch_size,\n",
    "                                          shuffle=False,\n",
    "                                          target_size=(im_size, im_size),\n",
    "                                          class_mode='categorical')\n",
    "#按路径载入图片，批处理大小，随机，尺寸，读热编码"
   ]
  },
  {
   "cell_type": "code",
   "execution_count": 7,
   "metadata": {},
   "outputs": [],
   "source": [
    "classes = train_gen.class_indices\n",
    "#类别查看"
   ]
  },
  {
   "cell_type": "code",
   "execution_count": 8,
   "metadata": {},
   "outputs": [
    {
     "data": {
      "text/plain": [
       "{'airplane': 0, 'bridge': 1, 'palace': 2, 'ship': 3, 'stadium': 4}"
      ]
     },
     "execution_count": 8,
     "metadata": {},
     "output_type": "execute_result"
    }
   ],
   "source": [
    "classes"
   ]
  },
  {
   "cell_type": "code",
   "execution_count": 9,
   "metadata": {},
   "outputs": [],
   "source": [
    "model = tf.keras.Sequential()\n",
    "#VGG-11/16"
   ]
  },
  {
   "cell_type": "code",
   "execution_count": 10,
   "metadata": {},
   "outputs": [],
   "source": [
    "model.add(tf.keras.layers.Conv2D(input_shape=(224,224,3),\n",
    "                                 filters = 64,\n",
    "                                 kernel_size = (3,3),\n",
    "                                 padding = 'same',\n",
    "                                 activation = \"relu\"))\n",
    "# model.add(tf.keras.layers.Conv2D(input_shape=(224,224,3),\n",
    "#                                  filters = 64,\n",
    "#                                  kernel_size = (3,3),\n",
    "#                                  padding = 'same',\n",
    "#                                  activation = \"relu\"))\n",
    "model.add(tf.keras.layers.MaxPooling2D(pool_size = (2, 2)))\n",
    "\n",
    "model.add(tf.keras.layers.Conv2D(input_shape=(224,224,3),\n",
    "                                 filters = 128,\n",
    "                                 kernel_size = (3,3),\n",
    "                                 padding = 'same',\n",
    "                                 activation = \"relu\"))\n",
    "# model.add(tf.keras.layers.Conv2D(input_shape=(224,224,3),\n",
    "#                                  filters = 128,\n",
    "#                                  kernel_size = (3,3),\n",
    "#                                  padding = 'same',\n",
    "#                                  activation = \"relu\"))\n",
    "model.add(tf.keras.layers.MaxPooling2D(pool_size = (2, 2)))\n",
    "\n",
    "model.add(tf.keras.layers.Conv2D(input_shape=(224,224,3),\n",
    "                                 filters = 256,\n",
    "                                 kernel_size = (3,3),\n",
    "                                 padding = 'same',\n",
    "                                 activation = \"relu\"))\n",
    "model.add(tf.keras.layers.Conv2D(input_shape=(224,224,3),\n",
    "                                 filters = 256,\n",
    "                                 kernel_size = (3,3),\n",
    "                                 padding = 'same',\n",
    "                                 activation = \"relu\"))\n",
    "# model.add(tf.keras.layers.Conv2D(input_shape=(224,224,3),\n",
    "#                                  filters = 256,\n",
    "#                                  kernel_size = (1,1),\n",
    "#                                  padding = 'same',\n",
    "#                                  activation = \"relu\"))\n",
    "model.add(tf.keras.layers.MaxPooling2D(pool_size = (2, 2)))\n",
    "\n",
    "model.add(tf.keras.layers.Conv2D(input_shape=(224,224,3),\n",
    "                                 filters = 512,\n",
    "                                 kernel_size = (3,3),\n",
    "                                 padding = 'same',\n",
    "                                 activation = \"relu\"))\n",
    "model.add(tf.keras.layers.Conv2D(input_shape=(224,224,3),\n",
    "                                 filters = 512,\n",
    "                                 kernel_size = (3,3),\n",
    "                                 padding = 'same',\n",
    "                                 activation = \"relu\"))\n",
    "# model.add(tf.keras.layers.Conv2D(input_shape=(224,224,3),\n",
    "#                                  filters = 512,\n",
    "#                                  kernel_size = (1,1),\n",
    "#                                  padding = 'same',\n",
    "#                                  activation = \"relu\"))\n",
    "model.add(tf.keras.layers.MaxPooling2D(pool_size = (2, 2)))\n",
    "\n",
    "model.add(tf.keras.layers.Conv2D(input_shape=(224,224,3),\n",
    "                                 filters = 512,\n",
    "                                 kernel_size = (3,3),\n",
    "                                 padding = 'same',\n",
    "                                 activation = \"relu\"))\n",
    "model.add(tf.keras.layers.Conv2D(input_shape=(224,224,3),\n",
    "                                 filters = 512,\n",
    "                                 kernel_size = (3,3),\n",
    "                                 padding = 'same',\n",
    "                                 activation = \"relu\"))\n",
    "# model.add(tf.keras.layers.Conv2D(input_shape=(224,224,3),\n",
    "#                                  filters = 512,\n",
    "#                                  kernel_size = (1,1),\n",
    "#                                  padding = 'same',\n",
    "#                                  activation = \"relu\"))\n",
    "model.add(tf.keras.layers.MaxPooling2D(pool_size = (2, 2)))\n",
    "\n",
    "model.add(tf.keras.layers.Flatten())\n",
    "model.add(tf.keras.layers.Dropout(0.5))\n",
    "model.add(tf.keras.layers.Dense(1024, activation='relu'))\n",
    "#model.add(tf.keras.layers.Dense(4096, activation='relu'))\n",
    "model.add(tf.keras.layers.Dropout(0.5))\n",
    "model.add(tf.keras.layers.Dense(1024, activation='relu'))\n",
    "#model.add(tf.keras.layers.Dense(4096, activation='relu'))\n",
    "model.add(tf.keras.layers.Dense(5, activation='softmax'))"
   ]
  },
  {
   "cell_type": "code",
   "execution_count": 11,
   "metadata": {},
   "outputs": [
    {
     "name": "stdout",
     "output_type": "stream",
     "text": [
      "Model: \"sequential\"\n",
      "_________________________________________________________________\n",
      " Layer (type)                Output Shape              Param #   \n",
      "=================================================================\n",
      " conv2d (Conv2D)             (None, 224, 224, 64)      1792      \n",
      "                                                                 \n",
      " max_pooling2d (MaxPooling2D  (None, 112, 112, 64)     0         \n",
      " )                                                               \n",
      "                                                                 \n",
      " conv2d_1 (Conv2D)           (None, 112, 112, 128)     73856     \n",
      "                                                                 \n",
      " max_pooling2d_1 (MaxPooling  (None, 56, 56, 128)      0         \n",
      " 2D)                                                             \n",
      "                                                                 \n",
      " conv2d_2 (Conv2D)           (None, 56, 56, 256)       295168    \n",
      "                                                                 \n",
      " conv2d_3 (Conv2D)           (None, 56, 56, 256)       590080    \n",
      "                                                                 \n",
      " max_pooling2d_2 (MaxPooling  (None, 28, 28, 256)      0         \n",
      " 2D)                                                             \n",
      "                                                                 \n",
      " conv2d_4 (Conv2D)           (None, 28, 28, 512)       1180160   \n",
      "                                                                 \n",
      " conv2d_5 (Conv2D)           (None, 28, 28, 512)       2359808   \n",
      "                                                                 \n",
      " max_pooling2d_3 (MaxPooling  (None, 14, 14, 512)      0         \n",
      " 2D)                                                             \n",
      "                                                                 \n",
      " conv2d_6 (Conv2D)           (None, 14, 14, 512)       2359808   \n",
      "                                                                 \n",
      " conv2d_7 (Conv2D)           (None, 14, 14, 512)       2359808   \n",
      "                                                                 \n",
      " max_pooling2d_4 (MaxPooling  (None, 7, 7, 512)        0         \n",
      " 2D)                                                             \n",
      "                                                                 \n",
      " flatten (Flatten)           (None, 25088)             0         \n",
      "                                                                 \n",
      " dropout (Dropout)           (None, 25088)             0         \n",
      "                                                                 \n",
      " dense (Dense)               (None, 1024)              25691136  \n",
      "                                                                 \n",
      " dropout_1 (Dropout)         (None, 1024)              0         \n",
      "                                                                 \n",
      " dense_1 (Dense)             (None, 1024)              1049600   \n",
      "                                                                 \n",
      " dense_2 (Dense)             (None, 5)                 5125      \n",
      "                                                                 \n",
      "=================================================================\n",
      "Total params: 35,966,341\n",
      "Trainable params: 35,966,341\n",
      "Non-trainable params: 0\n",
      "_________________________________________________________________\n"
     ]
    }
   ],
   "source": [
    "model.summary()"
   ]
  },
  {
   "cell_type": "code",
   "execution_count": 12,
   "metadata": {},
   "outputs": [],
   "source": [
    "model.compile(optimizer=tf.keras.optimizers.Adam(learning_rate=0.0005),\n",
    "              loss='categorical_crossentropy',\n",
    "              metrics=['acc'])\n",
    "#学习率设置"
   ]
  },
  {
   "cell_type": "code",
   "execution_count": 13,
   "metadata": {},
   "outputs": [
    {
     "name": "stdout",
     "output_type": "stream",
     "text": [
      "Epoch 1/10\n",
      "99/99 [==============================] - 591s 6s/step - loss: 1.5091 - acc: 0.2746 - val_loss: 1.2486 - val_acc: 0.4114\n",
      "Epoch 2/10\n",
      "99/99 [==============================] - 592s 6s/step - loss: 1.2454 - acc: 0.4210 - val_loss: 1.0900 - val_acc: 0.5371\n",
      "Epoch 3/10\n",
      "99/99 [==============================] - 602s 6s/step - loss: 1.1222 - acc: 0.5375 - val_loss: 1.1150 - val_acc: 0.5600\n",
      "Epoch 4/10\n",
      "99/99 [==============================] - 603s 6s/step - loss: 1.0175 - acc: 0.6048 - val_loss: 0.9278 - val_acc: 0.6314\n",
      "Epoch 5/10\n",
      "99/99 [==============================] - 604s 6s/step - loss: 0.8938 - acc: 0.6644 - val_loss: 0.8701 - val_acc: 0.6771\n",
      "Epoch 6/10\n",
      "99/99 [==============================] - 614s 6s/step - loss: 0.7864 - acc: 0.7203 - val_loss: 0.7189 - val_acc: 0.7371\n",
      "Epoch 7/10\n",
      "99/99 [==============================] - 584s 6s/step - loss: 0.6817 - acc: 0.7559 - val_loss: 0.6569 - val_acc: 0.7543\n",
      "Epoch 8/10\n",
      "99/99 [==============================] - 585s 6s/step - loss: 0.6076 - acc: 0.7813 - val_loss: 0.6761 - val_acc: 0.7686\n",
      "Epoch 9/10\n",
      "99/99 [==============================] - 604s 6s/step - loss: 0.5675 - acc: 0.7997 - val_loss: 0.6219 - val_acc: 0.7971\n",
      "Epoch 10/10\n",
      "99/99 [==============================] - 593s 6s/step - loss: 0.5026 - acc: 0.8181 - val_loss: 0.5268 - val_acc: 0.8229\n"
     ]
    }
   ],
   "source": [
    "history = model.fit(train_gen,epochs=10,validation_data=val_gen)"
   ]
  },
  {
   "cell_type": "code",
   "execution_count": 17,
   "metadata": {},
   "outputs": [
    {
     "data": {
      "text/plain": [
       "[<matplotlib.lines.Line2D at 0x1e98edc8b80>]"
      ]
     },
     "execution_count": 17,
     "metadata": {},
     "output_type": "execute_result"
    },
    {
     "data": {
      "image/png": "[encoded data removed]",
      "text/plain": [
       "<Figure size 432x288 with 1 Axes>"
      ]
     },
     "metadata": {
      "needs_background": "light"
     },
     "output_type": "display_data"
    }
   ],
   "source": [
    "plt.plot(history.epoch,history.history.get('acc'))\n",
    "plt.plot(history.epoch,history.history.get('val_acc'))"
   ]
  },
  {
   "cell_type": "code",
   "execution_count": 18,
   "metadata": {},
   "outputs": [
    {
     "name": "stdout",
     "output_type": "stream",
     "text": [
      "11/11 [==============================] - 13s 1s/step - loss: 0.5268 - acc: 0.8229\n"
     ]
    },
    {
     "data": {
      "text/plain": [
       "[0.5267787575721741, 0.822857141494751]"
      ]
     },
     "execution_count": 18,
     "metadata": {},
     "output_type": "execute_result"
    }
   ],
   "source": [
    "model.evaluate(val_gen)"
   ]
  },
  {
   "cell_type": "code",
   "execution_count": 21,
   "metadata": {},
   "outputs": [],
   "source": [
    "# 保存模型\n",
    "model.save('h5/sat3.h5')"
   ]
  },
  {
   "cell_type": "code",
   "execution_count": null,
   "metadata": {},
   "outputs": [],
   "source": []
  }
 ],
 "metadata": {
  "kernelspec": {
   "display_name": "Python 3 (ipykernel)",
   "language": "python",
   "name": "python3"
  },
  "language_info": {
   "codemirror_mode": {
    "name": "ipython",
    "version": 3
   },
   "file_extension": ".py",
   "mimetype": "text/x-python",
   "name": "python",
   "nbconvert_exporter": "python",
   "pygments_lexer": "ipython3",
   "version": "3.8.0"
  }
 },
 "nbformat": 4,
 "nbformat_minor": 4
}
