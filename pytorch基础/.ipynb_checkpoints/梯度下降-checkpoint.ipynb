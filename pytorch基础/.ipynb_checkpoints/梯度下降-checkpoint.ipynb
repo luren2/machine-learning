{
 "cells": [
  {
   "cell_type": "code",
   "execution_count": 1,
   "id": "b88a0052",
   "metadata": {},
   "outputs": [
    {
     "data": {
      "image/png": "[encoded data removed]",
      "text/plain": [
       "<Figure size 432x288 with 1 Axes>"
      ]
     },
     "metadata": {
      "needs_background": "light"
     },
     "output_type": "display_data"
    }
   ],
   "source": [
    "import numpy\n",
    "import matplotlib.pyplot as plt\n",
    "\n",
    "def forward(w, x):\n",
    "    return x * w\n",
    "\n",
    "\n",
    "def cost(x_cor, y_cor, w):\n",
    "    y_hat = forward(w, x_cor)\n",
    "    loss = (y_hat - y_cor) ** 2\n",
    "    return loss.sum() / len(x_cor)\n",
    "\n",
    "\n",
    "def gradient(x_cor, y_cor, w):\n",
    "    grad = 2 * x_cor * (w * x_cor - y_cor)\n",
    "    return grad.sum() / len(x_cor)\n",
    "\n",
    "\n",
    "x_data = numpy.array([1.0, 2.0, 3.0])\n",
    "y_data = numpy.array([2.0, 4.0, 6.0])\n",
    "num_epochs = 100\n",
    "lr = 0.01\n",
    "w_train = 1\n",
    "epoch_cor = []\n",
    "loss_cor = []\n",
    "for epoch in range(num_epochs):\n",
    "    mse_loss = cost(x_data, y_data, w_train)\n",
    "    loss_cor.append(mse_loss)\n",
    "    w_train -= lr * gradient(x_data, y_data, w_train)\n",
    "    epoch_cor.append(epoch + 1)\n",
    "\n",
    "# plt.figure()\n",
    "plt.plot(epoch_cor, loss_cor, c='b')\n",
    "plt.xlabel('Epoch')\n",
    "plt.ylabel('Cost')\n",
    "plt.xticks(range(0,101,10))\n",
    "plt.show()\n"
   ]
  },
  {
   "cell_type": "code",
   "execution_count": null,
   "id": "eff37b1b",
   "metadata": {},
   "outputs": [],
   "source": []
  }
 ],
 "metadata": {
  "kernelspec": {
   "display_name": "Python 3",
   "language": "python",
   "name": "python3"
  },
  "language_info": {
   "codemirror_mode": {
    "name": "ipython",
    "version": 3
   },
   "file_extension": ".py",
   "mimetype": "text/x-python",
   "name": "python",
   "nbconvert_exporter": "python",
   "pygments_lexer": "ipython3",
   "version": "3.8.8"
  }
 },
 "nbformat": 4,
 "nbformat_minor": 5
}
